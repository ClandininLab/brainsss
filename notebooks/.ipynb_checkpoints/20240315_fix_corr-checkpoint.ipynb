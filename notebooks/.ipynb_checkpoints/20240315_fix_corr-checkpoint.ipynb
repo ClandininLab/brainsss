{
 "cells": [
  {
   "cell_type": "code",
   "execution_count": 1,
   "metadata": {},
   "outputs": [
    {
     "name": "stderr",
     "output_type": "stream",
     "text": [
      "/home/users/ilanazs/.local/lib/python3.6/site-packages/ants/viz/render_surface_function.py:16: UserWarning:\n",
      "\n",
      "Cant import Plotly. Install it `pip install chart_studio` if you want to use ants.render_surface_function\n",
      "\n"
     ]
    }
   ],
   "source": [
    "import brainsss\n",
    "import os\n",
    "import numpy as np\n",
    "import matplotlib.pyplot as plt\n",
    "%matplotlib inline\n",
    "#from sklearn.cluster import AgglomerativeClustering\n",
    "import scipy\n",
    "from scipy.cluster.hierarchy import dendrogram\n",
    "from scipy.cluster.hierarchy import fcluster\n",
    "from scipy.cluster import hierarchy\n",
    "from scipy.signal import butter, filtfilt, freqz\n",
    "from scipy import signal\n",
    "import matplotlib as mpl\n",
    "from matplotlib.pyplot import cm\n",
    "import random\n",
    "from scipy.stats import sem\n",
    "import time\n",
    "import h5py\n",
    "import ants\n",
    "import nibabel as nib\n",
    "import matplotlib\n",
    "from scipy.ndimage import gaussian_filter1d\n",
    "import pickle\n",
    "from skimage import io\n",
    "import glob"
   ]
  },
  {
   "cell_type": "code",
   "execution_count": 2,
   "metadata": {
    "collapsed": true
   },
   "outputs": [],
   "source": [
    "fly_num = 'fly_207'\n",
    "func_path = f'/oak/stanford/groups/trc/data/Ilana/2P/data/{fly_num}/func_0'"
   ]
  },
  {
   "cell_type": "code",
   "execution_count": 3,
   "metadata": {},
   "outputs": [
    {
     "name": "stdout",
     "output_type": "stream",
     "text": [
      "/oak/stanford/groups/trc/data/Ilana/2P/data/fly_207/func_0/functional_channel_2_moco_zscore_highpass.h5\n"
     ]
    }
   ],
   "source": [
    "file_name = \"functional_channel_2_moco_zscore_highpass.h5\"\n",
    "load_path = os.path.join(func_path, file_name)\n",
    "print(load_path)"
   ]
  },
  {
   "cell_type": "code",
   "execution_count": 4,
   "metadata": {
    "collapsed": true
   },
   "outputs": [],
   "source": [
    "with h5py.File(load_path, 'r') as hf:\n",
    "    brain = hf['data'][:]"
   ]
  },
  {
   "cell_type": "code",
   "execution_count": 5,
   "metadata": {
    "collapsed": true
   },
   "outputs": [],
   "source": [
    "x_dim = brain.shape[0]\n",
    "y_dim = brain.shape[1]\n",
    "z_dim = brain.shape[2]"
   ]
  },
  {
   "cell_type": "code",
   "execution_count": 6,
   "metadata": {
    "collapsed": true
   },
   "outputs": [],
   "source": [
    "corr_brain = np.zeros((x_dim,y_dim,z_dim))"
   ]
  },
  {
   "cell_type": "code",
   "execution_count": 7,
   "metadata": {
    "collapsed": true
   },
   "outputs": [],
   "source": [
    "behaviors = [\"dRotLabZneg\", \"dRotLabZpos\", \"dRotLabY\"]"
   ]
  },
  {
   "cell_type": "code",
   "execution_count": null,
   "metadata": {},
   "outputs": [
    {
     "name": "stdout",
     "output_type": "stream",
     "text": [
      "Trying to load timestamp data from hdf5 file.\n",
      "Success.\n"
     ]
    }
   ],
   "source": [
    "fps = 100\n",
    "fictrac_raw = brainsss.load_fictrac(os.path.join(func_path, 'fictrac'))\n",
    "timestamps = brainsss.load_timestamps(os.path.join(func_path, 'imaging'))\n",
    "timestamps = timestamps[:300]\n",
    "resolution = 10 #desired resolution in ms\n",
    "expt_len = fictrac_raw.shape[0]/fps*1000 \n",
    "idx_to_use = list(range(timestamps.shape[0]))"
   ]
  },
  {
   "cell_type": "code",
   "execution_count": null,
   "metadata": {},
   "outputs": [],
   "source": [
    "for behavior in behaviors:\n",
    "    for z in range(z_dim):\n",
    "\n",
    "        ### interpolate fictrac to match the timestamps of this slice\n",
    "        fictrac_interp = brainsss.smooth_and_interp_fictrac(fictrac_raw, fps, resolution, expt_len, behavior, timestamps=timestamps, z=z)\n",
    "        for i in range(x_dim):\n",
    "            for j in range(y_dim):\n",
    "                # nan to num should be taken care of in zscore, but checking here for some already processed brains\n",
    "                if np.any(np.isnan(brain[i,j,z,:])):\n",
    "                    printlog(F'warning found nan at x = {i}; y = {j}; z = {z}')\n",
    "                    corr_brain[i,j,z] = 0\n",
    "                elif len(np.unique(brain[i,j,z,:])) == 1:\n",
    "                #     if np.unique(brain[i,j,z,:]) != 0:\n",
    "                #         printlog(F'warning found non-zero constant value at x = {i}; y = {j}; z = {z}')\n",
    "                    corr_brain[i,j,z] = 0\n",
    "                else:\n",
    "                    #idx_to_use can be used to select a subset of timepoints\n",
    "                    corr_brain[i,j,z] = scipy.stats.pearsonr(fictrac_interp[idx_to_use], brain[i,j,z,:][idx_to_use])[0]\n"
   ]
  },
  {
   "cell_type": "code",
   "execution_count": 23,
   "metadata": {},
   "outputs": [
    {
     "data": {
      "text/plain": [
       "(3384,)"
      ]
     },
     "execution_count": 23,
     "metadata": {},
     "output_type": "execute_result"
    }
   ],
   "source": [
    "np.shape(idx_to_use)"
   ]
  },
  {
   "cell_type": "code",
   "execution_count": null,
   "metadata": {
    "collapsed": true
   },
   "outputs": [],
   "source": []
  }
 ],
 "metadata": {
  "kernelspec": {
   "display_name": "Python 3",
   "language": "python",
   "name": "python3"
  },
  "language_info": {
   "codemirror_mode": {
    "name": "ipython",
    "version": 3
   },
   "file_extension": ".py",
   "mimetype": "text/x-python",
   "name": "python",
   "nbconvert_exporter": "python",
   "pygments_lexer": "ipython3",
   "version": "3.6.1"
  }
 },
 "nbformat": 4,
 "nbformat_minor": 2
}
