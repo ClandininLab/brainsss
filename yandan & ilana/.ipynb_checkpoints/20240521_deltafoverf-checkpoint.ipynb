{
 "cells": [
  {
   "cell_type": "code",
   "execution_count": null,
   "metadata": {},
   "outputs": [],
   "source": [
    "import brainsss\n",
    "import os\n",
    "import numpy as np\n",
    "import matplotlib.pyplot as plt\n",
    "%matplotlib inline\n",
    "#from sklearn.cluster import AgglomerativeClustering\n",
    "import scipy\n",
    "from scipy.cluster.hierarchy import dendrogram\n",
    "from scipy.cluster.hierarchy import fcluster\n",
    "from scipy.cluster import hierarchy\n",
    "from scipy.signal import butter, filtfilt, freqz\n",
    "from scipy import signal\n",
    "import matplotlib as mpl\n",
    "from matplotlib.pyplot import cm\n",
    "import random\n",
    "from scipy.stats import sem\n",
    "import time\n",
    "import h5py\n",
    "import ants\n",
    "import nibabel as nib\n",
    "import matplotlib\n",
    "from scipy.ndimage import gaussian_filter1d\n",
    "import pickle\n",
    "from skimage import io, filters\n",
    "import glob"
   ]
  },
  {
   "cell_type": "code",
   "execution_count": null,
   "metadata": {},
   "outputs": [],
   "source": [
    "fly_num = 'fly_208'\n",
    "func_path = f'/oak/stanford/groups/trc/data/Ilana/2P/data/{fly_num}/'\n",
    "load_directory = os.path.join(func_path, 'func_0/background_subtraction/functional_channel_2_moco.h5')\n",
    "save_directory = os.path.join(func_path, 'func_0/background_subtraction/functional_channel_2_moco_highpass_test.h5')\n",
    "# load_directory = os.path.join(func_path, 'func_0/functional_channel_2_moco_zscore.h5')\n",
    "load_directory"
   ]
  },
  {
   "cell_type": "code",
   "execution_count": null,
   "metadata": {
    "collapsed": true
   },
   "outputs": [],
   "source": [
    "def butter_highpass(cutoff, fs, order=5):\n",
    "    return butter(order, cutoff, fs=fs, btype='high', analog=False)\n",
    "\n",
    "def butter_highpass_filter(data, cutoff, fs, order=5):\n",
    "    b, a = butter_highpass(cutoff, fs, order=order)\n",
    "    y = filtfilt(b, a, data)\n",
    "    return y\n",
    "def apply_butter_highpass(data, z):\n",
    "    # Filter requirements.\n",
    "    order = 2     # ?? wtf is this??\n",
    "    fs = 1.8      # sample rate, Hz\n",
    "    cutoff = 0.05  # desired cutoff frequency of the filter, Hz\n",
    "\n",
    "    # Get the filter coefficients so we can check its frequency response.\n",
    "    b, a = butter_highpass(cutoff, fs, order)\n",
    "    hpf_data = []\n",
    "\n",
    "    for i in range(np.shape(data)[-1]):\n",
    "        hpf_data.append(butter_highpass_filter(data[:,:,z, i], cutoff, fs, order))\n",
    "    return hpf_data"
   ]
  },
  {
   "cell_type": "code",
   "execution_count": null,
   "metadata": {
    "collapsed": true
   },
   "outputs": [],
   "source": [
    "# # max's vals\n",
    "# cutoff = 0.1\n",
    "# order= 2"
   ]
  },
  {
   "cell_type": "code",
   "execution_count": null,
   "metadata": {
    "scrolled": true
   },
   "outputs": [],
   "source": [
    "%%time\n",
    "with h5py.File(load_directory, 'r') as hf:\n",
    "        data = hf['data'] # this doesn't actually LOAD the data - it is just a proxy\n",
    "        dims = np.shape(data)\n",
    "        print(\"Data shape is {}\".format(dims))\n",
    "        hpf_total = []\n",
    "        for z in range(2):\n",
    "#         plt.figure(figsize=(10,10))\n",
    "#         plt.imshow(data[:,:,z,1000].T)\n",
    "            hpf_data = apply_butter_highpass(data[:,:,:,:300], z)\n",
    "            hpf_total.append(hpf_data)\n",
    "        hpf_total = np.array(hpf_total)\n",
    "        dims_hpf = np.shape(hpf_total)\n",
    "        print(\"High Pass Filter Data shape is {}\".format(dims_hpf))\n",
    "#         plt.figure(figsize=(10,10))\n",
    "#         plt.imshow(hpf_data[1000,:,:].T)\n",
    "        "
   ]
  },
  {
   "cell_type": "code",
   "execution_count": null,
   "metadata": {},
   "outputs": [],
   "source": [
    "hpf_data.shape"
   ]
  },
  {
   "cell_type": "code",
   "execution_count": null,
   "metadata": {},
   "outputs": [],
   "source": [
    "np.reshape(hpf_data, (256, 128, 3384)).shape"
   ]
  },
  {
   "cell_type": "code",
   "execution_count": null,
   "metadata": {
    "collapsed": true
   },
   "outputs": [],
   "source": []
  }
 ],
 "metadata": {
  "kernelspec": {
   "display_name": "Python 3",
   "language": "python",
   "name": "python3"
  },
  "language_info": {
   "codemirror_mode": {
    "name": "ipython",
    "version": 3
   },
   "file_extension": ".py",
   "mimetype": "text/x-python",
   "name": "python",
   "nbconvert_exporter": "python",
   "pygments_lexer": "ipython3",
   "version": "3.6.1"
  }
 },
 "nbformat": 4,
 "nbformat_minor": 2
}
