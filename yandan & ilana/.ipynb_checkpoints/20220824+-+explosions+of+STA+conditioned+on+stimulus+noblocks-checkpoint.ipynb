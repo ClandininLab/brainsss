{
 "cells": [
  {
   "cell_type": "code",
   "execution_count": 1,
   "metadata": {},
   "outputs": [
    {
     "name": "stderr",
     "output_type": "stream",
     "text": [
      "/home/users/ilanazs/.local/lib/python3.6/site-packages/ants/viz/render_surface_function.py:16: UserWarning:\n",
      "\n",
      "Cant import Plotly. Install it `pip install chart_studio` if you want to use ants.render_surface_function\n",
      "\n"
     ]
    }
   ],
   "source": [
    "import brainsss\n",
    "import os\n",
    "import numpy as np\n",
    "import matplotlib.pyplot as plt\n",
    "%matplotlib inline\n",
    "#from sklearn.cluster import AgglomerativeClustering\n",
    "import scipy\n",
    "from scipy.cluster.hierarchy import dendrogram\n",
    "from scipy.cluster.hierarchy import fcluster\n",
    "from scipy.cluster import hierarchy\n",
    "from scipy.signal import butter, filtfilt, freqz\n",
    "import matplotlib as mpl\n",
    "from matplotlib.pyplot import cm\n",
    "import random\n",
    "from scipy.stats import sem\n",
    "import time\n",
    "import h5py\n",
    "import ants\n",
    "import nibabel as nib\n",
    "import matplotlib\n",
    "from scipy.ndimage import gaussian_filter1d\n",
    "import pickle"
   ]
  },
  {
   "cell_type": "code",
   "execution_count": 56,
   "metadata": {
    "collapsed": true
   },
   "outputs": [],
   "source": [
    "fly_num = 'fly_180'\n",
    "func_path = f'/oak/stanford/groups/trc/data/Brezovec/2P_Imaging/20190101_walking_dataset/{fly_num}/func_0/'\n",
    "# fly_num = 'fly_189'\n",
    "# func_path = f'/oak/stanford/groups/trc/data/Ilana/2P/data/{fly_num}/func_0'"
   ]
  },
  {
   "cell_type": "code",
   "execution_count": 57,
   "metadata": {},
   "outputs": [
    {
     "name": "stdout",
     "output_type": "stream",
     "text": [
      "loading photodiode data... done\n",
      "Loaded from Pickle.\n",
      "Found 741 presented stimuli.\n",
      "starts_angle_0: 184. starts_angle_180: 184\n"
     ]
    }
   ],
   "source": [
    "###########################\n",
    "### PREP VISUAL STIMULI ###\n",
    "###########################\n",
    "\n",
    "vision_path = os.path.join(func_path, 'visual')\n",
    "\n",
    "### Load Photodiode ###\n",
    "t, ft_triggers, pd1, pd2 = brainsss.load_photodiode(vision_path)\n",
    "stimulus_start_times = brainsss.extract_stim_times_from_pd(pd2, t)\n",
    "\n",
    "### Get Metadata ###\n",
    "stim_ids, angles = brainsss.get_stimulus_metadata(vision_path)\n",
    "print(F\"Found {len(stim_ids)} presented stimuli.\")\n",
    "\n",
    "# *100 puts in units of 10ms, which will match fictrac\n",
    "starts_angle = {}\n",
    "for angle in [0,180]:\n",
    "    starts_angle[angle] = [int(stimulus_start_times[i]*100) for i in range(len(stimulus_start_times)) if angles[i] == angle]\n",
    "print(F\"starts_angle_0: {len(starts_angle[0])}. starts_angle_180: {len(starts_angle[180])}\")\n",
    "\n",
    "# get 1ms version to match neural timestamps\n",
    "starts_angle_ms = {}\n",
    "for angle in [0,180]:\n",
    "    starts_angle_ms[angle] = [i*10 for i in starts_angle[angle]]"
   ]
  },
  {
   "cell_type": "code",
   "execution_count": 58,
   "metadata": {
    "collapsed": true
   },
   "outputs": [],
   "source": [
    "for file in os.listdir(vision_path):\n",
    "    if file[-4:] == 'hdf5':\n",
    "        file_name = file\n",
    "\n",
    "visprotocol_file = os.path.join(vision_path, file_name)\n",
    "with h5py.File(visprotocol_file, 'r') as file:\n",
    "    angle = file['angle'][:]\n",
    "    translation = file['translation'][:]"
   ]
  },
  {
   "cell_type": "code",
   "execution_count": 59,
   "metadata": {
    "collapsed": true
   },
   "outputs": [],
   "source": [
    "stim_time = 0.75 #0.5 will be in hold\n",
    "post_time = 1.25\n",
    "# How long should a cluster of epochs be?\n",
    "epoch_cluster_duration = 6.25 #in min # THIS IS SET BASED ON 5 1MIN GREY PERIODS AND 4 STIM PERIODS FOR 30MIN TOTAL\n",
    "epoch_cluster_duration *= 60 # now in sec\n",
    "\n",
    "###############################################\n",
    "### CREATE LONG LIST OF ALL STIM TO PRESENT ###\n",
    "###############################################\n",
    "\n",
    "epoch_duration = post_time + stim_time\n",
    "# given the duration of a single epoch and a cluster of epochs, how many epochs to present?\n",
    "num_epochs_in_cluster = int(epoch_cluster_duration / epoch_duration)\n",
    "num_single_stim_type = int(num_epochs_in_cluster/4)"
   ]
  },
  {
   "cell_type": "code",
   "execution_count": 60,
   "metadata": {
    "collapsed": true
   },
   "outputs": [],
   "source": [
    "starts_loom = []\n",
    "for i in range(len(angles)):\n",
    "    if angles[i] == None:\n",
    "        continue\n",
    "    if np.isnan(angles[i]):\n",
    "        starts_loom.append(int(stimulus_start_times[i]*100))"
   ]
  },
  {
   "cell_type": "code",
   "execution_count": 61,
   "metadata": {
    "collapsed": true
   },
   "outputs": [],
   "source": [
    "#QC to check if flies actually responding to loom\n",
    "max_time = np.max(starts_loom)\n",
    "min_time = 1\n",
    "null_times = np.random.randint(min_time, max_time, len(starts_loom))\n",
    "# this replaces starts_loom"
   ]
  },
  {
   "cell_type": "code",
   "execution_count": 62,
   "metadata": {
    "collapsed": true
   },
   "outputs": [],
   "source": [
    "####################\n",
    "### Prep Fictrac ###\n",
    "####################\n",
    "\n",
    "fictrac_path = os.path.join(func_path, 'fictrac')\n",
    "fictrac_raw = brainsss.load_fictrac(fictrac_path)\n",
    "\n",
    "fps = 100\n",
    "resolution = 10 #desired resolution in ms\n",
    "expt_len = fictrac_raw.shape[0]/fps*1000\n",
    "behaviors = ['dRotLabY', 'dRotLabZ']\n",
    "fictrac = {}\n",
    "for behavior in behaviors:\n",
    "    if behavior == 'dRotLabY': short = 'Y'\n",
    "    elif behavior == 'dRotLabZ': short = 'Z'\n",
    "    fictrac[short] = brainsss.smooth_and_interp_fictrac(fictrac_raw, fps, resolution, expt_len, behavior)\n",
    "fictrac_timestamps = np.arange(0,expt_len,resolution)"
   ]
  },
  {
   "cell_type": "code",
   "execution_count": 63,
   "metadata": {
    "collapsed": true
   },
   "outputs": [],
   "source": [
    "def extract_traces(fictrac, stim_times, pre_window, post_window):\n",
    "    traces = []\n",
    "    for i in range(len(stim_times)):\n",
    "        trace = fictrac['Y'][stim_times[i]-pre_window:stim_times[i]+post_window]\n",
    "        if len(trace) == pre_window + post_window: # this handles fictrac that crashed or was aborted or some bullshit\n",
    "            traces.append(trace)\n",
    "    traces = np.asarray(traces)\n",
    "    mean_trace = np.mean(traces,axis=0)\n",
    "    sem_trace = scipy.stats.sem(traces,axis=0)\n",
    "    return traces, mean_trace, sem_trace"
   ]
  },
  {
   "cell_type": "code",
   "execution_count": 64,
   "metadata": {
    "collapsed": true
   },
   "outputs": [],
   "source": [
    "###########################################\n",
    "### Extract Stimulus Triggered Behavior ###\n",
    "###########################################\n",
    "\n",
    "pre_window = 200\n",
    "post_window = 300\n",
    "# avg_around = 20\n",
    "# stim_time = 75\n",
    "\n",
    "behavior_traces = {}\n",
    "mean_trace = {}\n",
    "sem_trace = {}\n",
    "#for angle in [0,180]:\n",
    "behavior_traces,mean_trace,sem_trace = extract_traces(fictrac, starts_loom, pre_window, post_window)\n",
    "behavior_traces_QC,mean_trace_QC,sem_trace_QC = extract_traces(fictrac, null_times, pre_window, post_window)"
   ]
  },
  {
   "cell_type": "code",
   "execution_count": 65,
   "metadata": {},
   "outputs": [
    {
     "data": {
      "text/plain": [
       "(array([ 5., 13., 18., 52., 60., 26.,  6.,  2.,  1.,  1.]),\n",
       " array([-8.73632085, -6.51314682, -4.28997279, -2.06679876,  0.15637526,\n",
       "         2.37954929,  4.60272332,  6.82589735,  9.04907137, 11.2722454 ,\n",
       "        13.49541943]),\n",
       " <BarContainer object of 10 artists>)"
      ]
     },
     "execution_count": 65,
     "metadata": {},
     "output_type": "execute_result"
    },
    {
     "data": {
      "image/png": "[encoded data removed]",
      "text/plain": [
       "<Figure size 432x288 with 2 Axes>"
      ]
     },
     "metadata": {},
     "output_type": "display_data"
    }
   ],
   "source": [
    "rand_time_e = 250\n",
    "rand_time_s = 210\n",
    "diffs = behavior_traces[:,rand_time_e]-behavior_traces[:,rand_time_s]\n",
    "diffs_QC = behavior_traces_QC[:,rand_time_e]-behavior_traces_QC[:,rand_time_s]\n",
    "plt.subplot(2, 1, 1)\n",
    "plt.hist(diffs)\n",
    "plt.subplot(2, 1, 2)\n",
    "plt.hist(diffs_QC)"
   ]
  },
  {
   "cell_type": "code",
   "execution_count": 66,
   "metadata": {
    "collapsed": true
   },
   "outputs": [],
   "source": [
    "ts = fictrac_raw[\"timeStamp\"] #in ms i think\n",
    "ts_sec = ts/1000\n",
    "fr = 1/np.mean(np.diff(ts_sec)) #figure out frame_rate from bruker fictrac"
   ]
  },
  {
   "cell_type": "code",
   "execution_count": 67,
   "metadata": {},
   "outputs": [
    {
     "data": {
      "text/plain": [
       "180000"
      ]
     },
     "execution_count": 67,
     "metadata": {},
     "output_type": "execute_result"
    }
   ],
   "source": [
    "len(ts_sec) #number of frames (should be 180000 for 30min)"
   ]
  },
  {
   "cell_type": "code",
   "execution_count": 68,
   "metadata": {},
   "outputs": [
    {
     "data": {
      "text/plain": [
       "99.99916666262371"
      ]
     },
     "execution_count": 68,
     "metadata": {},
     "output_type": "execute_result"
    }
   ],
   "source": [
    "fr"
   ]
  },
  {
   "cell_type": "code",
   "execution_count": 69,
   "metadata": {
    "collapsed": true
   },
   "outputs": [],
   "source": [
    "# andrew anaylsis\n",
    "value_struct ={\n",
    "    # the data is in 10ms, use this value to get the index if i use seconds\n",
    "    \"tp_width_sec\": 0.01,\n",
    "    \"trial_time_sec\": 1,\n",
    "    \"before_stim_sec\": pre_window/100,\n",
    "    # time in seconds between end of pre trial window and the stimulus time. \n",
    "    # when set to zero, the pre trial window ends when the stimulus is presented\n",
    "    \"pre_trial_window_sec\": -0.05,\n",
    "    # size of window that pre trial speed is averaged over, seconds, window ends at stimulus time\n",
    "    # when 0 is a single val and not a window\n",
    "    \"pre_trial_size_sec\": 0,\n",
    "    # size of post trial speed average window, sec\n",
    "    \"post_trial_window_sec\": 0.5,\n",
    "    # post trial window at stim tiem + post trail delay\n",
    "    # when 0 is a single val and not a window\n",
    "    \"post_trial_size_sec\": 0,\n",
    "    \"thresh\": 0.05\n",
    "    }\n",
    "def get_vals_for_analysis(tp_width_sec=0, trial_time_sec=0, before_stim_sec=0, pre_trial_window_sec=0, pre_trial_size_sec=0, post_trial_window_sec=0, post_trial_size_sec=0, thresh=0):\n",
    "        \n",
    "    stim_end_sec = before_stim_sec + trial_time_sec\n",
    "    \n",
    "    stim_idx = int(before_stim_sec/tp_width_sec)\n",
    "    stim_end_idx = int(stim_end_sec/tp_width_sec)\n",
    "    pre_trial_window_idx = int(pre_trial_window_sec/tp_width_sec)\n",
    "\n",
    "    # first val i use to make delta to compare change in vel\n",
    "    first_val_end_idx = int(stim_idx - pre_trial_window_idx)\n",
    "    first_val_start_idx = int(first_val_end_idx - (pre_trial_size_sec/tp_width_sec)) #only needed if you're averaging across a window, otherwise just start val is used\n",
    "\n",
    "    # second val used to make delta\n",
    "    second_val_start_idx = int(stim_idx + post_trial_size_sec/tp_width_sec)\n",
    "    second_val_end_idx = int(second_val_start_idx + post_trial_window_sec/tp_width_sec)\n",
    "    return stim_idx, stim_end_idx, pre_trial_window_idx, first_val_end_idx, first_val_start_idx, second_val_end_idx, second_val_start_idx"
   ]
  },
  {
   "cell_type": "code",
   "execution_count": 70,
   "metadata": {
    "collapsed": true
   },
   "outputs": [],
   "source": [
    "def butter_lowpass(cutoff, fs, order=5):\n",
    "    return butter(order, cutoff, fs=fs, btype='low', analog=False)\n",
    "\n",
    "def butter_lowpass_filter(data, cutoff, fs, order=5):\n",
    "    b, a = butter_lowpass(cutoff, fs, order=order)\n",
    "    y = filtfilt(b, a, data, method=\"gust\")\n",
    "    return y\n",
    "\n",
    "# def butter_lowpass_filter(data, cutoff, fs, order=5):\n",
    "#     b, a = butter_lowpass(cutoff, fs, order=order)\n",
    "#     y = lfilter(b, a, data)\n",
    "#     return y"
   ]
  },
  {
   "cell_type": "code",
   "execution_count": 71,
   "metadata": {},
   "outputs": [],
   "source": [
    "def apply_butter_lowpass(behavior_traces, stim_idx, fr):\n",
    "    # Filter requirements.\n",
    "    order = 4\n",
    "    fs = fr      # sample rate, Hz\n",
    "    cutoff = 3  # desired cutoff frequency of the filter, Hz\n",
    "\n",
    "    # Get the filter coefficients so we can check its frequency response.\n",
    "    b, a = butter_lowpass(cutoff, fs, order)\n",
    "\n",
    "    # Plot the frequency response.\n",
    "    w, h = freqz(b, a, fs=fs, worN=8000)\n",
    "    plt.subplot(2, 1, 1)\n",
    "    plt.plot(w, np.abs(h), 'b')\n",
    "    plt.plot(cutoff, 0.5*np.sqrt(2), 'ko')\n",
    "    plt.axvline(cutoff, color='k')\n",
    "    plt.xlim(0, 0.5*fs)\n",
    "    plt.title(\"Lowpass Filter Frequency Response\")\n",
    "    plt.xlabel('Frequency [Hz]')\n",
    "    # plt.grid()\n",
    "\n",
    "    # Filter the data, and plot both the original and filtered signals.\n",
    "    lpf_behavior = np.zeros((behavior_traces.shape[0], behavior_traces.shape[1] - stim_idx))\n",
    "\n",
    "    for i in range(behavior_traces.shape[0]):\n",
    "        lpf_behavior[i, :] = butter_lowpass_filter(behavior_traces[i,stim_idx:], cutoff, fs, order)\n",
    "\n",
    "    plt.subplot(2, 1, 2)\n",
    "    plt.plot(np.mean(behavior_traces[:, stim_idx:], axis=0), 'b-', label='data')\n",
    "    plt.plot(np.mean(lpf_behavior, axis=0), 'g-', linewidth=2, label='filtered data')\n",
    "    # plt.plot(np.mean(lpf_behavior_QC, axis=0), 'r-', linewidth=2, label='QC filtered data')\n",
    "    plt.xlabel('Time')\n",
    "    # plt.grid()\n",
    "    plt.legend()\n",
    "\n",
    "    plt.subplots_adjust(hspace=0.35)\n",
    "    plt.show()\n",
    "    return lpf_behavior"
   ]
  },
  {
   "cell_type": "code",
   "execution_count": 72,
   "metadata": {},
   "outputs": [],
   "source": [
    "# # (n_trials,)\n",
    "# if PRE_TRIAL_START_IDX!=PRE_TRIAL_END_IDX:\n",
    "#     pre_trial_speed = np.mean(behavior_traces[:, PRE_TRIAL_START_IDX:PRE_TRIAL_END_IDX], axis=1)\n",
    "# else:\n",
    "#     pre_trial_speed = np.asarray(behavior_traces[:, PRE_TRIAL_START_IDX])\n",
    "# # (n_trials,)\n",
    "# if POST_TRIAL_START_IDX!=POST_TRIAL_END_IDX:\n",
    "#     post_trial_speed = np.mean(behavior_traces[:, POST_TRIAL_START_IDX:POST_TRIAL_END_IDX], axis=1)\n",
    "# else:\n",
    "#     post_trial_speed = np.asarray(behavior_traces[:, POST_TRIAL_START_IDX])\n"
   ]
  },
  {
   "cell_type": "code",
   "execution_count": 73,
   "metadata": {
    "collapsed": true
   },
   "outputs": [],
   "source": [
    "def get_speed_change(behavior, stim_idx, first_val_start_idx, first_val_end_idx, second_val_start_idx, second_val_end_idx):\n",
    "    pre_tsi= first_val_start_idx-stim_idx\n",
    "    pre_tei = first_val_end_idx-stim_idx\n",
    "    post_tsi = second_val_start_idx-stim_idx\n",
    "    post_tei = second_val_end_idx-stim_idx\n",
    "    \n",
    "    if first_val_start_idx!=first_val_end_idx:\n",
    "        first_speed = np.mean(behavior[:,pre_tsi:pre_tei], axis = 1)\n",
    "    else:\n",
    "        first_val_start_idx = int(first_val_start_idx)\n",
    "        first_speed = np.asarray(behavior[:,pre_tsi])\n",
    "\n",
    "    if second_val_start_idx!=second_val_end_idx:\n",
    "        second_speed = np.mean(behavior[:,post_tsi:post_tei], axis = 1)\n",
    "    else: \n",
    "        second_speed = np.asarray(behavior[:,post_tsi])\n",
    "    speed_change = second_speed-first_speed\n",
    "    return speed_change"
   ]
  },
  {
   "cell_type": "code",
   "execution_count": 74,
   "metadata": {
    "collapsed": true
   },
   "outputs": [],
   "source": [
    "# # (n_trials,) positive if they start slow and end fast, negative for vice versa\n",
    "# speed_change = post_trial_speed - pre_trial_speed"
   ]
  },
  {
   "cell_type": "code",
   "execution_count": 75,
   "metadata": {},
   "outputs": [],
   "source": [
    "# plt.plot(speed_change)"
   ]
  },
  {
   "cell_type": "code",
   "execution_count": 76,
   "metadata": {
    "collapsed": true
   },
   "outputs": [],
   "source": [
    "# SLOW_TRIAL_SELECTION = np.logical_not(speed_change < SPEED_THRESHOLD)\n",
    "# SLOW_TRIAL_IDXS = np.where(SLOW_TRIAL_SELECTION)[0]\n",
    "# slow_ind = SLOW_TRIAL_IDXS"
   ]
  },
  {
   "cell_type": "code",
   "execution_count": 77,
   "metadata": {
    "collapsed": true,
    "scrolled": true
   },
   "outputs": [],
   "source": [
    "# fig, ax = plt.subplots()\n",
    "\n",
    "# ax.hist(speed_change, bins = 50)"
   ]
  },
  {
   "cell_type": "code",
   "execution_count": 78,
   "metadata": {},
   "outputs": [],
   "source": [
    "def get_trials(speed_change, thresh):\n",
    "    decrease_trials = speed_change <-thresh\n",
    "    decrease_idx = np.where(decrease_trials)\n",
    "    increase_trials = speed_change>thresh\n",
    "    increase_idx = np.where(increase_trials)\n",
    "    flat_trials = np.logical_and(speed_change>-thresh, speed_change<thresh)\n",
    "    flat_idx = np.where(flat_trials)\n",
    "    return increase_trials, decrease_trials, flat_trials"
   ]
  },
  {
   "cell_type": "markdown",
   "metadata": {
    "collapsed": true
   },
   "source": [
    "# OLD\n",
    "\n",
    "##Find the indicies of trials where the speed decreased past a certain threshold (presumed freezing)\n",
    "diffs = behavior_traces[:,pre_window] - behavior_traces[:,(pre_window+avg_around)]\n",
    "plt.plot(diffs)\n",
    "print(np.size(diffs))\n",
    "threshold = 0.001\n",
    "slow_ind = np.where(diffs>threshold)[0]\n",
    "for idx in slow_ind:\n",
    "    plt.axvline(idx,color='r',linestyle='--',lw=1)"
   ]
  },
  {
   "cell_type": "code",
   "execution_count": 79,
   "metadata": {
    "collapsed": true
   },
   "outputs": [],
   "source": [
    "\n",
    "def validate_trial(trial_idx, trace=None):\n",
    "    \"\"\" Visualize a single trial, along with the pre and post averaging windows\n",
    "    \n",
    "    RED: pre window\n",
    "    YELLOW: post window\n",
    "    BLUE: stim time\n",
    "    \"\"\"\n",
    "    if trace is None:\n",
    "        trace = behavior_traces[trial_idx]\n",
    "    plt.plot(trace)\n",
    "    plt.axvline(first_val_start_idx, color='r')\n",
    "    plt.axvline(first_val_end_idx, color='r')\n",
    "    plt.axvline(second_val_start_idx, color='y')\n",
    "    plt.axvline(second_val_end_idx, color='y')\n",
    "    plt.axvline(stim_idx, color='b')\n",
    "\n",
    "\n",
    "def validate_windows(behavior_traces, value_struct, fr):\n",
    "    \"\"\" Visualize average traces for both slow and fast trials\n",
    "    \n",
    "    NOTE: uses global variables, must rerun constant cells and slow_ind logic to change results.\n",
    "    \n",
    "    RED: pre window\n",
    "    YELLOW: post window\n",
    "    BLUE: stim time\n",
    "    \"\"\"\n",
    "    \n",
    "    stim_idx, stim_end_idx, pre_trial_window_idx, first_val_end_idx, first_val_start_idx, second_val_end_idx, second_val_start_idx = get_vals_for_analysis(**value_struct)\n",
    "    lpf_behavior = apply_butter_lowpass(behavior_traces, stim_idx, fr)\n",
    "    speed_change = get_speed_change(lpf_behavior, stim_idx, first_val_start_idx, first_val_end_idx, second_val_start_idx, second_val_end_idx)\n",
    "    increase_trials, decrease_trials, flat_trials = get_trials(speed_change, value_struct[\"thresh\"])\n",
    "    increase_traces = behavior_traces[increase_trials]\n",
    "    decrease_traces = behavior_traces[decrease_trials]\n",
    "    flat_traces = behavior_traces[flat_trials]\n",
    "    \n",
    "    print(f\"{len(increase_traces)} increase trials\")\n",
    "    print(f\"{len(decrease_traces)} decrease trials\")\n",
    "    print(f\"{len(flat_traces)} flat trials\")\n",
    "    \n",
    "    increase_mean = np.mean(increase_traces, axis=0)\n",
    "    increase_sem = scipy.stats.sem(increase_traces, axis=0)\n",
    "    \n",
    "    decrease_mean = np.mean(decrease_traces, axis=0)\n",
    "    decrease_sem = scipy.stats.sem(decrease_traces, axis=0)\n",
    "    \n",
    "    flat_mean = np.mean(flat_traces, axis=0)\n",
    "    flat_sem = scipy.stats.sem(flat_traces, axis=0)\n",
    "    \n",
    "    fig, axes = plt.subplots(nrows=3)\n",
    "    \n",
    "    axes[0].plot(increase_mean, color='k',linewidth=3)\n",
    "    axes[0].set_ylim(-1, 3.5)\n",
    "    axes[0].fill_between(np.arange(len(increase_mean)), increase_mean - increase_sem, increase_mean + increase_sem, color='k',alpha=0.3)\n",
    "    axes[0].axvline(first_val_start_idx, color='r')\n",
    "    axes[0].axvline(first_val_end_idx, color='r')\n",
    "    axes[0].axvline(second_val_start_idx, color='y')\n",
    "    axes[0].axvline(second_val_end_idx, color='y')\n",
    "    axes[0].axvline(stim_idx, color='b', linestyle='--')\n",
    "    axes[0].axvline(stim_end_idx, color='b', linestyle='--')\n",
    "#     axes[0].set_title(\"slow trials\")\n",
    "    \n",
    "\n",
    "    \n",
    "    axes[1].plot(decrease_mean, color='k',linewidth=3)\n",
    "    axes[1].set_ylim(-1, 3.5)\n",
    "    axes[1].fill_between(np.arange(len(decrease_mean)), decrease_mean - decrease_sem, decrease_mean + decrease_sem, color='k',alpha=0.3)\n",
    "    axes[1].axvline(first_val_start_idx, color='r')\n",
    "    axes[1].axvline(first_val_end_idx, color='r')\n",
    "    axes[1].axvline(second_val_start_idx, color='y')\n",
    "    axes[1].axvline(second_val_end_idx, color='y')\n",
    "    axes[1].axvline(stim_idx, color='b', linestyle='--')\n",
    "    axes[1].axvline(stim_end_idx, color='b', linestyle='--')\n",
    "    \n",
    "    axes[2].plot(flat_mean, color='k',linewidth=3)\n",
    "    axes[2].set_ylim(-1, 3.5)\n",
    "    axes[2].fill_between(np.arange(len(flat_mean)), flat_mean - flat_sem, flat_mean + flat_sem, color='k',alpha=0.3)\n",
    "    axes[2].axvline(first_val_start_idx, color='r')\n",
    "    axes[2].axvline(first_val_end_idx, color='r')\n",
    "    axes[2].axvline(second_val_start_idx, color='y')\n",
    "    axes[2].axvline(second_val_end_idx, color='y')\n",
    "    axes[2].axvline(stim_idx, color='b', linestyle='--')\n",
    "    axes[2].axvline(stim_end_idx, color='b', linestyle='--')\n",
    "    \n",
    "    return fig, axes\n"
   ]
  },
  {
   "cell_type": "code",
   "execution_count": 80,
   "metadata": {},
   "outputs": [
    {
     "data": {
      "image/png": "[encoded data removed]",
      "text/plain": [
       "<Figure size 432x288 with 2 Axes>"
      ]
     },
     "metadata": {},
     "output_type": "display_data"
    },
    {
     "name": "stdout",
     "output_type": "stream",
     "text": [
      "89 increase trials\n",
      "77 decrease trials\n",
      "18 flat trials\n"
     ]
    },
    {
     "data": {
      "image/png": "[encoded data removed]",
      "text/plain": [
       "<Figure size 432x288 with 3 Axes>"
      ]
     },
     "metadata": {},
     "output_type": "display_data"
    }
   ],
   "source": [
    "fig, axes = validate_windows(behavior_traces_QC,value_struct, fr)\n",
    "fig.tight_layout()"
   ]
  },
  {
   "cell_type": "code",
   "execution_count": 81,
   "metadata": {},
   "outputs": [
    {
     "data": {
      "image/png": "[encoded data removed]",
      "text/plain": [
       "<Figure size 432x288 with 2 Axes>"
      ]
     },
     "metadata": {},
     "output_type": "display_data"
    },
    {
     "name": "stdout",
     "output_type": "stream",
     "text": [
      "79 increase trials\n",
      "86 decrease trials\n",
      "19 flat trials\n"
     ]
    },
    {
     "data": {
      "image/png": "[encoded data removed]",
      "text/plain": [
       "<Figure size 432x288 with 3 Axes>"
      ]
     },
     "metadata": {},
     "output_type": "display_data"
    }
   ],
   "source": [
    "fig, axes = validate_windows(behavior_traces,value_struct, fr)\n",
    "fig.tight_layout()"
   ]
  },
  {
   "cell_type": "code",
   "execution_count": null,
   "metadata": {
    "scrolled": false
   },
   "outputs": [],
   "source": [
    "# plotting all average behavior around the looming stim\n",
    "plt.figure(figsize=(10,10))\n",
    "plt.plot(mean_trace,color='k',linewidth=3)\n",
    "plt.fill_between(np.arange(len(mean_trace)),mean_trace-sem_trace, mean_trace+sem_trace, color='k',alpha=0.3)\n",
    "plt.ylim(-1, 5)\n",
    "plt.axvline(STIM_IDX,color='k',linestyle='--',lw=2)\n",
    "plt.axvline(STIM_END_IDX,color='k',linestyle='--',lw=2)\n",
    "\n",
    "    "
   ]
  },
  {
   "cell_type": "code",
   "execution_count": null,
   "metadata": {
    "collapsed": true
   },
   "outputs": [],
   "source": [
    "#Only plotting behavior of the trials where the fly froze\n",
    "\n",
    "decrease_traces = behavior_traces[decrease_trials]\n",
    "decrease_mean = np.mean(decrease_traces, axis=0)\n",
    "decrease_sem = scipy.stats.sem(decrease_traces, axis=0)\n",
    "\n",
    "plt.figure(figsize=(10,10))\n",
    "plt.plot(decrease_mean,color='k',linewidth=3)\n",
    "plt.fill_between(np.arange(len(decrease_mean)),decrease_mean-decrease_sem, decrease_mean+decrease_sem, color='k',alpha=0.3)\n",
    "plt.ylim(-1, 3.5)\n",
    "plt.axvline(STIM_IDX,color='k',linestyle='--',lw=2)\n",
    "plt.axvline(STIM_END_IDX,color='k',linestyle='--',lw=2)\n",
    "np.shape(decrease_traces)"
   ]
  },
  {
   "cell_type": "code",
   "execution_count": null,
   "metadata": {
    "collapsed": true
   },
   "outputs": [],
   "source": [
    "#Only plotting behavior of the trials where the fly didn't freeze\n",
    "\n",
    "increase_traces = behavior_traces[increase_trials]\n",
    "increase_mean = np.mean(increase_traces, axis=0)\n",
    "increase_sem = scipy.stats.sem(increase_traces, axis=0)\n",
    "\n",
    "plt.figure(figsize=(10,10))\n",
    "plt.plot(increase_mean,color='k',linewidth=3)\n",
    "plt.fill_between(np.arange(len(increase_mean)),increase_mean-increase_sem, increase_mean+increase_sem, color='k',alpha=0.3)\n",
    "plt.ylim(-1, 3.5)\n",
    "plt.axvline(STIM_IDX,color='k',linestyle='--',lw=2)\n",
    "plt.axvline(STIM_END_IDX,color='k',linestyle='--',lw=2)\n",
    "np.shape(increase_traces)"
   ]
  },
  {
   "cell_type": "code",
   "execution_count": null,
   "metadata": {
    "collapsed": true
   },
   "outputs": [],
   "source": [
    "#Only plotting behavior of the trials where the fly didn't move much\n",
    "\n",
    "flat_traces = behavior_traces[flat_trials]\n",
    "flat_mean = np.mean(flat_traces, axis=0)\n",
    "flat_sem = scipy.stats.sem(flat_traces, axis=0)\n",
    "\n",
    "plt.figure(figsize=(10,10))\n",
    "plt.plot(flat_mean,color='k',linewidth=3)\n",
    "plt.fill_between(np.arange(len(flat_mean)),flat_mean-flat_sem, flat_mean+flat_sem, color='k',alpha=0.3)\n",
    "plt.ylim(-1, 3.5)\n",
    "plt.axvline(STIM_IDX,color='k',linestyle='--',lw=2)\n",
    "plt.axvline(STIM_END_IDX,color='k',linestyle='--',lw=2)\n",
    "np.shape(flat_traces)"
   ]
  },
  {
   "cell_type": "markdown",
   "metadata": {},
   "source": [
    "# load neural"
   ]
  },
  {
   "cell_type": "code",
   "execution_count": null,
   "metadata": {
    "collapsed": true
   },
   "outputs": [],
   "source": [
    "n_clusters = 2000\n",
    "cluster_dir = os.path.join(func_path, 'clustering')\n",
    "\n",
    "load_file = os.path.join(cluster_dir, 'cluster_labels.npy')\n",
    "cluster_labels = np.load(load_file)\n",
    "\n",
    "load_file = os.path.join(cluster_dir, 'cluster_signals.npy')\n",
    "all_signals = np.load(load_file)"
   ]
  },
  {
   "cell_type": "code",
   "execution_count": null,
   "metadata": {
    "collapsed": true
   },
   "outputs": [],
   "source": [
    "np.shape(all_signals)"
   ]
  },
  {
   "cell_type": "code",
   "execution_count": null,
   "metadata": {
    "collapsed": true
   },
   "outputs": [],
   "source": [
    "time_average =np.mean(all_signals, axis=(0,1))"
   ]
  },
  {
   "cell_type": "markdown",
   "metadata": {},
   "source": [
    "# Fictrac checks"
   ]
  },
  {
   "cell_type": "code",
   "execution_count": null,
   "metadata": {
    "collapsed": true
   },
   "outputs": [],
   "source": [
    "fictrac['Y'] = np.squeeze(fictrac['Y'])\n",
    "out = scipy.signal.correlate(time_average, fictrac['Y'])"
   ]
  },
  {
   "cell_type": "code",
   "execution_count": null,
   "metadata": {
    "collapsed": true
   },
   "outputs": [],
   "source": [
    "plt.plot(out)\n",
    "plt.axvline(3384,color='k')\n",
    "plt.xlim(3300,3400)"
   ]
  },
  {
   "cell_type": "markdown",
   "metadata": {},
   "source": [
    "# check warp quality"
   ]
  },
  {
   "cell_type": "code",
   "execution_count": null,
   "metadata": {
    "collapsed": true
   },
   "outputs": [],
   "source": [
    "fixed = brainsss.load_fda_meanbrain()"
   ]
  },
  {
   "cell_type": "code",
   "execution_count": null,
   "metadata": {
    "collapsed": true
   },
   "outputs": [],
   "source": [
    "fixed"
   ]
  },
  {
   "cell_type": "code",
   "execution_count": null,
   "metadata": {
    "collapsed": true
   },
   "outputs": [],
   "source": [
    "atlas = brainsss.load_roi_atlas()"
   ]
  },
  {
   "cell_type": "code",
   "execution_count": null,
   "metadata": {
    "collapsed": true
   },
   "outputs": [],
   "source": [
    "explosion_rois = brainsss.load_explosion_groups()\n",
    "all_rois = brainsss.unnest_roi_groups(explosion_rois)\n",
    "roi_masks = brainsss.make_single_roi_masks(all_rois, atlas)\n",
    "roi_contours = brainsss.make_single_roi_contours(roi_masks, atlas)"
   ]
  },
  {
   "cell_type": "code",
   "execution_count": null,
   "metadata": {
    "collapsed": true
   },
   "outputs": [],
   "source": [
    "timestamps = brainsss.load_timestamps(os.path.join(func_path, 'imaging'))"
   ]
  },
  {
   "cell_type": "code",
   "execution_count": null,
   "metadata": {
    "collapsed": true
   },
   "outputs": [],
   "source": [
    "fps = 100\n",
    "resolution = 10 #desired resolution in ms\n",
    "expt_len = fictrac_raw.shape[0]/fps*1000\n",
    "behaviors = ['dRotLabY', 'dRotLabZ']\n",
    "fictrac = {}\n",
    "for behavior in behaviors:\n",
    "    if behavior == 'dRotLabY': short = 'Y'\n",
    "    elif behavior == 'dRotLabZ': short = 'Z'\n",
    "    fictrac[short] = brainsss.smooth_and_interp_fictrac(fictrac_raw, fps, resolution, expt_len, behavior, timestamps[:,20])\n",
    "fictrac_timestamps = np.arange(0,expt_len,resolution)"
   ]
  },
  {
   "cell_type": "code",
   "execution_count": null,
   "metadata": {
    "collapsed": true
   },
   "outputs": [],
   "source": [
    "warp_dir = f'/oak/stanford/groups/trc/data/Brezovec/2P_Imaging/20190101_walking_dataset/{fly_num}/warp/'\n",
    "f2a = ants.image_read(os.path.join(warp_dir, 'func-to-anat.nii'))"
   ]
  },
  {
   "cell_type": "code",
   "execution_count": null,
   "metadata": {
    "collapsed": true
   },
   "outputs": [],
   "source": [
    "plt.imshow(f2a[:,:,70].T)"
   ]
  },
  {
   "cell_type": "code",
   "execution_count": null,
   "metadata": {
    "collapsed": true
   },
   "outputs": [],
   "source": [
    "warp_dir = f'/oak/stanford/groups/trc/data/Brezovec/2P_Imaging/20190101_walking_dataset/{fly_num}/warp/'\n",
    "a2a = ants.image_read(os.path.join(warp_dir, 'anat-to-meanbrain.nii'))"
   ]
  },
  {
   "cell_type": "code",
   "execution_count": null,
   "metadata": {
    "collapsed": true
   },
   "outputs": [],
   "source": [
    "a2a"
   ]
  },
  {
   "cell_type": "code",
   "execution_count": null,
   "metadata": {
    "collapsed": true
   },
   "outputs": [],
   "source": [
    "directory = f'/oak/stanford/groups/trc/data/Brezovec/2P_Imaging/20190101_walking_dataset/{fly_num}/anat_0/moco'\n",
    "anat = ants.image_read(os.path.join(directory, 'anatomy_channel_1_moc_mean.nii'))"
   ]
  },
  {
   "cell_type": "code",
   "execution_count": null,
   "metadata": {
    "collapsed": true
   },
   "outputs": [],
   "source": [
    "anat.set_spacing((0.653, 0.653, 1))"
   ]
  },
  {
   "cell_type": "code",
   "execution_count": null,
   "metadata": {
    "collapsed": true
   },
   "outputs": [],
   "source": [
    "anat_low=anat.resample_image((2,2,2),use_voxels=False)"
   ]
  },
  {
   "cell_type": "code",
   "execution_count": null,
   "metadata": {
    "collapsed": true
   },
   "outputs": [],
   "source": [
    "z=20\n",
    "plt.figure(figsize=(10,10))\n",
    "plt.subplot(2,1,1)\n",
    "plt.imshow(a2a[:,:,z].T)\n",
    "plt.subplot(2,1,2)\n",
    "plt.imshow(fixed[:,:,z].T)"
   ]
  },
  {
   "cell_type": "code",
   "execution_count": null,
   "metadata": {
    "collapsed": true
   },
   "outputs": [],
   "source": [
    "bin_start = -500; bin_end = 2000; bin_size = 100\n",
    "neural_bins = np.arange(bin_start,bin_end,bin_size)"
   ]
  },
  {
   "cell_type": "markdown",
   "metadata": {},
   "source": [
    "# STA wrapped"
   ]
  },
  {
   "cell_type": "code",
   "execution_count": null,
   "metadata": {
    "collapsed": true
   },
   "outputs": [],
   "source": [
    "starts_loom_ms = [i*10 for i in starts_loom]"
   ]
  },
  {
   "cell_type": "code",
   "execution_count": null,
   "metadata": {
    "collapsed": true
   },
   "outputs": [],
   "source": [
    "decrease_starts = []\n",
    "for idx in decrease_idx[0]:\n",
    "    decrease_starts.append(starts_loom[idx])\n",
    "decrease_starts_ms = [n*10 for n in decrease_starts]\n",
    "print(np.shape(decrease_starts_ms))\n",
    "\n",
    "increase_starts = []\n",
    "for idx in increase_idx[0]:\n",
    "    increase_starts.append(starts_loom[idx])\n",
    "increase_starts_ms = [n*10 for n in increase_starts]\n",
    "print(np.shape(increase_starts_ms))\n",
    "\n",
    "flat_starts = []\n",
    "for idx in flat_idx[0]:\n",
    "    flat_starts.append(starts_loom[idx])\n",
    "flat_starts_ms = [n*10 for n in flat_starts]\n",
    "print(np.shape(flat_starts_ms))"
   ]
  },
  {
   "cell_type": "code",
   "execution_count": null,
   "metadata": {
    "collapsed": true
   },
   "outputs": [],
   "source": [
    "t0 = time.time()\n",
    "STA_brain_decrease = brainsss.make_STA_brain(neural_signals = all_signals,\n",
    "                                   neural_timestamps = timestamps,\n",
    "                                   event_times_list = decrease_starts_ms,\n",
    "                                   neural_bins = neural_bins)\n",
    "\n",
    "STA_brain_increase = brainsss.make_STA_brain(neural_signals = all_signals,\n",
    "                                   neural_timestamps = timestamps,\n",
    "                                   event_times_list = increase_starts_ms,\n",
    "                                   neural_bins = neural_bins)\n",
    "\n",
    "STA_brain_flat = brainsss.make_STA_brain(neural_signals = all_signals,\n",
    "                                   neural_timestamps = timestamps,\n",
    "                                   event_times_list = flat_starts_ms,\n",
    "                                   neural_bins = neural_bins)\n",
    "print(F'STA {time.time()-t0}')"
   ]
  },
  {
   "cell_type": "code",
   "execution_count": null,
   "metadata": {
    "collapsed": true
   },
   "outputs": [],
   "source": [
    "STA_brain_decrease = np.nan_to_num(STA_brain_decrease)\n",
    "STA_brain_increase = np.nan_to_num(STA_brain_increase)\n",
    "STA_brain_flat = np.nan_to_num(STA_brain_flat)"
   ]
  },
  {
   "cell_type": "code",
   "execution_count": null,
   "metadata": {
    "collapsed": true
   },
   "outputs": [],
   "source": [
    "reformed_STA_brain_decrease = brainsss.STA_supervoxel_to_full_res(STA_brain_decrease, cluster_labels)\n",
    "reformed_STA_brain_increase = brainsss.STA_supervoxel_to_full_res(STA_brain_increase, cluster_labels)\n",
    "reformed_STA_brain_flat = brainsss.STA_supervoxel_to_full_res(STA_brain_flat, cluster_labels)"
   ]
  },
  {
   "cell_type": "code",
   "execution_count": null,
   "metadata": {
    "collapsed": true
   },
   "outputs": [],
   "source": [
    "reformed_STA_brain = reformed_STA_brain_non_freeze-reformed_STA_brain_freeze\n",
    "#to subract the different trials"
   ]
  },
  {
   "cell_type": "code",
   "execution_count": null,
   "metadata": {
    "collapsed": true
   },
   "outputs": [],
   "source": [
    "plt.imshow(reformed_STA_brain[25,13,:,:].T,)\n",
    "# plt.imshow(reformed_STA_brain_non_freeze[25,13,:,:].T,)"
   ]
  },
  {
   "cell_type": "code",
   "execution_count": null,
   "metadata": {
    "collapsed": true
   },
   "outputs": [],
   "source": [
    "#change the STA brain based on condition\n",
    "STA_brain = gaussian_filter1d(reformed_STA_brain_decrease,sigma=1,axis=1,truncate=1)"
   ]
  },
  {
   "cell_type": "code",
   "execution_count": null,
   "metadata": {
    "collapsed": true
   },
   "outputs": [],
   "source": [
    "t0 = time.time()\n",
    "warps = brainsss.warp_STA_brain(STA_brain=STA_brain, fly=fly_num, fixed=fixed, anat_to_mean_type='myr')\n",
    "print(F'Warps {time.time()-t0}')"
   ]
  },
  {
   "cell_type": "code",
   "execution_count": null,
   "metadata": {
    "collapsed": true
   },
   "outputs": [],
   "source": [
    "def extract_roi_signal_traces(roi_ids, roi_masks, warps, hemi, signal_type):\n",
    "    t0 = time.time()\n",
    "    roi_time_avgs = []\n",
    "    for roi in roi_ids[hemi]:\n",
    "        mask = roi_masks[roi]\n",
    "        masked_data = warps[:,:,:,:]*mask[np.newaxis,:,:,:] #note z-flip\n",
    "        if signal_type == 'max':\n",
    "            roi_time_avg = np.max(masked_data,axis=(1,2,3))\n",
    "        elif signal_type == 'mean':\n",
    "            roi_time_avg = np.mean(masked_data,axis=(1,2,3))\n",
    "        roi_time_avgs.append(roi_time_avg)\n",
    "    print(time.time()-t0)\n",
    "    return np.asarray(roi_time_avgs)"
   ]
  },
  {
   "cell_type": "code",
   "execution_count": null,
   "metadata": {
    "collapsed": true
   },
   "outputs": [],
   "source": [
    "explosions = []\n",
    "t0 = time.time()\n",
    "for tp in range(24):\n",
    "    input_canvas = np.ones((500,500,3)) #+.5 #.5 for diverging\n",
    "    data_to_plot = warps[tp][:,:,::-1]\n",
    "    vmax = 0.5\n",
    "    explosion_map = brainsss.place_roi_groups_on_canvas(explosion_rois,\n",
    "                                                        roi_masks,\n",
    "                                                        roi_contours,\n",
    "                                                        data_to_plot,\n",
    "                                                        input_canvas,\n",
    "                                                        vmax=vmax,\n",
    "                                                        cmap='seismic', diverging=True)#'hot')\n",
    "    explosions.append(explosion_map)\n",
    "print(F'Explosion {time.time()-t0}')"
   ]
  },
  {
   "cell_type": "code",
   "execution_count": null,
   "metadata": {
    "collapsed": true
   },
   "outputs": [],
   "source": [
    "ilana_path = f'/oak/stanford/groups/trc/data/Ilana/2P/data/{fly_num}/'\n",
    "if os.path.exists(ilana_path)==False:\n",
    "    os.mkdir(ilana_path)\n"
   ]
  },
  {
   "cell_type": "code",
   "execution_count": null,
   "metadata": {
    "collapsed": true
   },
   "outputs": [],
   "source": [
    "movie_dir = os.path.join(ilana_path, 'movies')\n",
    "if os.path.exists(movie_dir)==False:\n",
    "    os.mkdir(movie_dir)\n",
    "print(movie_dir)"
   ]
  },
  {
   "cell_type": "code",
   "execution_count": null,
   "metadata": {
    "collapsed": true
   },
   "outputs": [],
   "source": [
    "save_dir = os.path.join(movie_dir,'decrease')\n",
    "if os.path.exists(save_dir)==False:\n",
    "    os.mkdir(save_dir)\n",
    "print(save_dir)"
   ]
  },
  {
   "cell_type": "code",
   "execution_count": null,
   "metadata": {
    "collapsed": true
   },
   "outputs": [],
   "source": [
    "plt.figure(figsize=(10,10))\n",
    "for i in range(24):\n",
    "    print(i)\n",
    "    plt.imshow(explosions[i][170:,:]) #this was made with cmap=hot\n",
    "    fname = os.path.join(save_dir, '{0:05d}.png'.format(i))\n",
    "    plt.savefig(fname,dpi=300,bbox_inches='tight')"
   ]
  },
  {
   "cell_type": "code",
   "execution_count": null,
   "metadata": {
    "collapsed": true
   },
   "outputs": [],
   "source": []
  }
 ],
 "metadata": {
  "kernelspec": {
   "display_name": "Python 3",
   "language": "python",
   "name": "python3"
  },
  "language_info": {
   "codemirror_mode": {
    "name": "ipython",
    "version": 3
   },
   "file_extension": ".py",
   "mimetype": "text/x-python",
   "name": "python",
   "nbconvert_exporter": "python",
   "pygments_lexer": "ipython3",
   "version": "3.6.1"
  }
 },
 "nbformat": 4,
 "nbformat_minor": 2
}
