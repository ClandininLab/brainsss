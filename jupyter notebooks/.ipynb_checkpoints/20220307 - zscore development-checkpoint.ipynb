{
 "cells": [
  {
   "cell_type": "code",
   "execution_count": 1,
   "metadata": {
    "collapsed": true
   },
   "outputs": [],
   "source": [
    "import brainsss\n",
    "import os\n",
    "import sys\n",
    "import numpy as np\n",
    "import argparse\n",
    "import subprocess\n",
    "import json\n",
    "from time import time\n",
    "import nibabel as nib\n",
    "import h5py"
   ]
  },
  {
   "cell_type": "code",
   "execution_count": null,
   "metadata": {},
   "outputs": [],
   "source": [
    "os.listdir(\"/oak/stanford/groups/trc/data/Brezovec/2P_Imaging/20190101_walking_dataset/fly_105/func_0/\")"
   ]
  },
  {
   "cell_type": "code",
   "execution_count": 2,
   "metadata": {},
   "outputs": [],
   "source": [
    "# How to make new directories for new files\n",
    "directory = \"/oak/stanford/groups/trc/data/Brezovec/2P_Imaging/20190101_walking_dataset/fly_130/func_0/moco\"\n",
    "filename = \"functional_channel_1_moco.h5\"\n",
    "file = os.path.join(directory, filename)# add one more directory\n",
    "parent_dir = os.path.dirname(directory)# remove last directory\n",
    "savename = filename.split('.')[0] + '_zscore.h5'#\"functional_channel_1_moco\" \"h5\"\n",
    "savefile = os.path.join(parent_dir, savename)"
   ]
  },
  {
   "cell_type": "code",
   "execution_count": null,
   "metadata": {
    "collapsed": true
   },
   "outputs": [],
   "source": [
    "meanbrain = meanbrain + data[:,:,:,i]"
   ]
  },
  {
   "cell_type": "code",
   "execution_count": 45,
   "metadata": {},
   "outputs": [
    {
     "name": "stdout",
     "output_type": "stream",
     "text": [
      "5.25\n"
     ]
    }
   ],
   "source": [
    "running_sum = 0\n",
    "for i in [6,3,5,7]:\n",
    "    running_sum += i\n",
    "mean = running_sum / 4\n",
    "print(mean)"
   ]
  },
  {
   "cell_type": "code",
   "execution_count": 56,
   "metadata": {},
   "outputs": [],
   "source": [
    "dims = (256, 128, 49, 3384)"
   ]
  },
  {
   "cell_type": "code",
   "execution_count": 66,
   "metadata": {},
   "outputs": [
    {
     "name": "stdout",
     "output_type": "stream",
     "text": [
      "[0, 100, 200, 300, 400, 500, 600, 700, 800, 900, 1000, 1100, 1200, 1300, 1400, 1500, 1600, 1700, 1800, 1900, 2000, 2100, 2200, 2300, 2400, 2500, 2600, 2700, 2800, 2900, 3000, 3100, 3200, 3300, 3384]\n"
     ]
    }
   ],
   "source": [
    "stepsize = 100\n",
    "steps = list(range(0,dims[-1],stepsize))\n",
    "steps.append(dims[-1])\n",
    "print(steps)"
   ]
  },
  {
   "cell_type": "code",
   "execution_count": null,
   "metadata": {
    "collapsed": true
   },
   "outputs": [],
   "source": []
  },
  {
   "cell_type": "code",
   "execution_count": 69,
   "metadata": {},
   "outputs": [
    {
     "name": "stderr",
     "output_type": "stream",
     "text": [
      "ERROR:root:Internal Python error in the inspect module.\n",
      "Below is the traceback from this internal error.\n",
      "\n"
     ]
    },
    {
     "name": "stdout",
     "output_type": "stream",
     "text": [
      "Chunkstart: 0 Chunkend: 100\n",
      "Chunkstart: 100 Chunkend: 200\n",
      "Chunkstart: 200 Chunkend: 300\n",
      "Chunkstart: 300 Chunkend: 400\n",
      "Chunkstart: 400 Chunkend: 500\n",
      "Chunkstart: 500 Chunkend: 600\n",
      "Chunkstart: 600 Chunkend: 700\n",
      "Chunkstart: 700 Chunkend: 800\n",
      "Chunkstart: 800 Chunkend: 900\n",
      "Chunkstart: 900 Chunkend: 1000\n",
      "Chunkstart: 1000 Chunkend: 1100\n",
      "Chunkstart: 1100 Chunkend: 1200\n",
      "Chunkstart: 1200 Chunkend: 1300\n",
      "Chunkstart: 1300 Chunkend: 1400\n",
      "Chunkstart: 1400 Chunkend: 1500\n",
      "Chunkstart: 1500 Chunkend: 1600\n",
      "Chunkstart: 1600 Chunkend: 1700\n",
      "Chunkstart: 1700 Chunkend: 1800\n",
      "Chunkstart: 1800 Chunkend: 1900\n",
      "Chunkstart: 1900 Chunkend: 2000\n",
      "Chunkstart: 2000 Chunkend: 2100\n",
      "Chunkstart: 2100 Chunkend: 2200\n",
      "Chunkstart: 2200 Chunkend: 2300\n",
      "Chunkstart: 2300 Chunkend: 2400\n",
      "Chunkstart: 2400 Chunkend: 2500\n",
      "Chunkstart: 2500 Chunkend: 2600\n",
      "Chunkstart: 2600 Chunkend: 2700\n",
      "Chunkstart: 2700 Chunkend: 2800\n",
      "Chunkstart: 2800 Chunkend: 2900\n",
      "Chunkstart: 2900 Chunkend: 3000\n",
      "Chunkstart: 3000 Chunkend: 3100\n",
      "Chunkstart: 3100 Chunkend: 3200\n",
      "Chunkstart: 3200 Chunkend: 3300\n",
      "Chunkstart: 3300 Chunkend: 3384\n",
      "Traceback (most recent call last):\n",
      "  File \"/share/software/user/open/py-jupyter/1.0.0_py36/lib/python3.6/site-packages/IPython/core/interactiveshell.py\", line 2862, in run_code\n",
      "    exec(code_obj, self.user_global_ns, self.user_ns)\n",
      "  File \"<ipython-input-69-709b6c710f7a>\", line 3, in <module>\n",
      "    chunkend = steps[chunk_num + 1]\n",
      "IndexError: list index out of range\n",
      "\n",
      "During handling of the above exception, another exception occurred:\n",
      "\n",
      "Traceback (most recent call last):\n",
      "  File \"/share/software/user/open/py-jupyter/1.0.0_py36/lib/python3.6/site-packages/IPython/core/interactiveshell.py\", line 1806, in showtraceback\n",
      "    stb = value._render_traceback_()\n",
      "AttributeError: 'IndexError' object has no attribute '_render_traceback_'\n",
      "\n",
      "During handling of the above exception, another exception occurred:\n",
      "\n",
      "Traceback (most recent call last):\n",
      "  File \"/share/software/user/open/py-jupyter/1.0.0_py36/lib/python3.6/site-packages/IPython/core/ultratb.py\", line 1090, in get_records\n",
      "    return _fixed_getinnerframes(etb, number_of_lines_of_context, tb_offset)\n",
      "  File \"/share/software/user/open/py-jupyter/1.0.0_py36/lib/python3.6/site-packages/IPython/core/ultratb.py\", line 311, in wrapped\n",
      "    return f(*args, **kwargs)\n",
      "  File \"/share/software/user/open/py-jupyter/1.0.0_py36/lib/python3.6/site-packages/IPython/core/ultratb.py\", line 345, in _fixed_getinnerframes\n",
      "    records = fix_frame_records_filenames(inspect.getinnerframes(etb, context))\n",
      "  File \"/share/software/user/open/python/3.6.1/lib/python3.6/inspect.py\", line 1453, in getinnerframes\n",
      "    frameinfo = (tb.tb_frame,) + getframeinfo(tb, context)\n",
      "  File \"/share/software/user/open/python/3.6.1/lib/python3.6/inspect.py\", line 1411, in getframeinfo\n",
      "    filename = getsourcefile(frame) or getfile(frame)\n",
      "  File \"/share/software/user/open/python/3.6.1/lib/python3.6/inspect.py\", line 666, in getsourcefile\n",
      "    if getattr(getmodule(object, filename), '__loader__', None) is not None:\n",
      "  File \"/share/software/user/open/python/3.6.1/lib/python3.6/inspect.py\", line 695, in getmodule\n",
      "    file = getabsfile(object, _filename)\n",
      "  File \"/share/software/user/open/python/3.6.1/lib/python3.6/inspect.py\", line 679, in getabsfile\n",
      "    return os.path.normcase(os.path.abspath(_filename))\n",
      "  File \"/share/software/user/open/python/3.6.1/lib/python3.6/posixpath.py\", line 374, in abspath\n",
      "    cwd = os.getcwd()\n",
      "FileNotFoundError: [Errno 2] No such file or directory\n"
     ]
    },
    {
     "ename": "IndexError",
     "evalue": "list index out of range",
     "output_type": "error",
     "traceback": [
      "\u001b[0;31m---------------------------------------------------------------------------\u001b[0m"
     ]
    }
   ],
   "source": [
    "for chunk_num in range(len(steps)):\n",
    "    chunkstart = steps[chunk_num]\n",
    "    chunkend = steps[chunk_num + 1]\n",
    "    print(F\"Chunkstart: {chunkstart} Chunkend: {chunkend}\")\n",
    "    #data[:,:,:,chunkstart:chunkend]"
   ]
  },
  {
   "cell_type": "code",
   "execution_count": 52,
   "metadata": {},
   "outputs": [
    {
     "name": "stdout",
     "output_type": "stream",
     "text": [
      "vol: 0 time: 0.2717018127441406\n",
      "vol: 1 time: 0.25281691551208496\n",
      "vol: 2 time: 0.25173258781433105\n",
      "vol: 3 time: 0.24898529052734375\n",
      "vol: 4 time: 0.24702024459838867\n",
      "vol: 5 time: 0.24820804595947266\n",
      "vol: 6 time: 0.25012636184692383\n",
      "vol: 7 time: 0.25121235847473145\n",
      "vol: 8 time: 0.25170183181762695\n",
      "vol: 9 time: 0.25153040885925293\n",
      "0.33300089836120605\n",
      "0.2870748043060303\n",
      "0.286022424697876\n",
      "0.29180121421813965\n",
      "0.2860829830169678\n",
      "0.28229832649230957\n",
      "0.28543567657470703\n",
      "0.2848665714263916\n",
      "0.2864952087402344\n",
      "0.29027390480041504\n"
     ]
    }
   ],
   "source": [
    "with h5py.File(file, 'r') as hf:\n",
    "    data = hf['data'] # this doesn't actually LOAD the data - it is just a proxy\n",
    "    #dims = np.shape(data)\n",
    "    dims = (256,128,49,10)\n",
    "    running_sum = np.zeros(dims[:3])\n",
    "    \n",
    "    for i in range(dims[-1]):\n",
    "        t0 = time()\n",
    "        running_sum += data[:,:,:,i]\n",
    "        #if i % 10 == 0:\n",
    "        print(F\"vol: {i} time: {time()-t0}\")\n",
    "    meanbrain = running_sum / dims[-1]\n",
    "    \n",
    "    total = 0\n",
    "    for i in range(dims[-1]):\n",
    "        s = (data[:,:,:,i]-meanbrain)**2\n",
    "        total = s + total \n",
    "    final_std = np.sqrt(total/dims[-1]) \n",
    "\n",
    "    with h5py.File(savefile, 'w') as f:\n",
    "        dset = f.create_dataset('data', dims, dtype='float32', chunks=True) \n",
    "\n",
    "        for i in range(dims[-1]):\n",
    "            t0 = time()\n",
    "            e = (data[:,:,:,i] - meanbrain)/final_std\n",
    "            f['data'][:,:,:,i] = e\n",
    "            print(time()-t0)"
   ]
  },
  {
   "cell_type": "code",
   "execution_count": 54,
   "metadata": {},
   "outputs": [
    {
     "name": "stdout",
     "output_type": "stream",
     "text": [
      "vol: 9 time: 0.3370366096496582\n"
     ]
    }
   ],
   "source": [
    "with h5py.File(file, 'r') as hf:\n",
    "    data = hf['data'] # this doesn't actually LOAD the data - it is just a proxy\n",
    "    #dims = np.shape(data)\n",
    "    dims = (256,128,49,10)\n",
    "    running_sum = np.zeros(dims[:3])\n",
    "    \n",
    "    \n",
    "    #for i in range(dims[-1]):\n",
    "    t0 = time()\n",
    "    running_sum += np.sum(data[:,:,:,10:20], axis=3)\n",
    "    #if i % 10 == 0:\n",
    "    print(F\"vol: {i} time: {time()-t0}\")\n",
    "    meanbrain = running_sum / dims[-1]"
   ]
  },
  {
   "cell_type": "code",
   "execution_count": null,
   "metadata": {
    "collapsed": true
   },
   "outputs": [],
   "source": [
    "meanbrain = #256,128,49\n",
    "for chunk in chunks:\n",
    "    chunk # (256,128,49,100)\n",
    "    meanbrain += np.sum(chunk, axis=3)"
   ]
  },
  {
   "cell_type": "code",
   "execution_count": null,
   "metadata": {
    "collapsed": true
   },
   "outputs": [],
   "source": [
    "for chunk in chunks:\n",
    "    chunk # (256,128,49,100)\n",
    "    zscored = (chunk - meanbrain[...,None]) / stdbrain[:,:,:,None]\n",
    "    zscored # (256,128,49,100)"
   ]
  },
  {
   "cell_type": "code",
   "execution_count": 41,
   "metadata": {},
   "outputs": [
    {
     "name": "stdout",
     "output_type": "stream",
     "text": [
      "(256, 128, 49, 10)\n"
     ]
    }
   ],
   "source": [
    "with h5py.File(savefile, 'r') as f:\n",
    "    data = f['data'] \n",
    "    print(data.shape)"
   ]
  },
  {
   "cell_type": "code",
   "execution_count": 26,
   "metadata": {},
   "outputs": [
    {
     "data": {
      "text/plain": [
       "int"
      ]
     },
     "execution_count": 26,
     "metadata": {},
     "output_type": "execute_result"
    }
   ],
   "source": [
    "a = [1,2,3,4,5]\n",
    "type(a[1])"
   ]
  },
  {
   "cell_type": "code",
   "execution_count": 46,
   "metadata": {},
   "outputs": [
    {
     "name": "stdout",
     "output_type": "stream",
     "text": [
      "[0. 0. 0. 0. 0.]\n"
     ]
    }
   ],
   "source": [
    "a = [1,2,3,4,5]\n",
    "b = np.zeros(len(a))\n",
    "print(b)"
   ]
  },
  {
   "cell_type": "code",
   "execution_count": 50,
   "metadata": {},
   "outputs": [
    {
     "data": {
      "text/plain": [
       "array([1., 1., 1., 1.])"
      ]
     },
     "execution_count": 50,
     "metadata": {},
     "output_type": "execute_result"
    }
   ],
   "source": [
    "np.zeros((4)) + 1"
   ]
  },
  {
   "cell_type": "code",
   "execution_count": 48,
   "metadata": {},
   "outputs": [
    {
     "name": "stdout",
     "output_type": "stream",
     "text": [
      "[6. 6. 6. 6.]\n"
     ]
    }
   ],
   "source": [
    "b = np.zeros((4))\n",
    "for i in range(4):\n",
    "    b += i\n",
    "print(b)\n",
    "\n",
    "\n",
    "# for i in range(4):\n",
    "#     b[i] += a[i]\n",
    "# print(b)"
   ]
  },
  {
   "cell_type": "code",
   "execution_count": null,
   "metadata": {
    "collapsed": true
   },
   "outputs": [],
   "source": []
  },
  {
   "cell_type": "code",
   "execution_count": 37,
   "metadata": {},
   "outputs": [
    {
     "name": "stdout",
     "output_type": "stream",
     "text": [
      "[0. 1. 2. 3. 0.]\n",
      "[ 1.  4.  7. 10.  0.]\n"
     ]
    }
   ],
   "source": [
    "b = np.zeros(len(a))\n",
    "\n",
    "\n",
    "for i in range(4):\n",
    "    b[i] += i\n",
    "print(b)\n",
    "\n",
    "\n",
    "for i in range(4):\n",
    "    b[i] += a[i]\n",
    "print(b)"
   ]
  },
  {
   "cell_type": "code",
   "execution_count": 47,
   "metadata": {},
   "outputs": [
    {
     "name": "stdout",
     "output_type": "stream",
     "text": [
      "0\n",
      "1\n",
      "2\n",
      "3\n"
     ]
    }
   ],
   "source": [
    "for i in range(4):\n",
    "    print(i)"
   ]
  },
  {
   "cell_type": "code",
   "execution_count": null,
   "metadata": {
    "collapsed": true
   },
   "outputs": [],
   "source": []
  }
 ],
 "metadata": {
  "kernelspec": {
   "display_name": "Python 3",
   "language": "python",
   "name": "python3"
  },
  "language_info": {
   "codemirror_mode": {
    "name": "ipython",
    "version": 3
   },
   "file_extension": ".py",
   "mimetype": "text/x-python",
   "name": "python",
   "nbconvert_exporter": "python",
   "pygments_lexer": "ipython3",
   "version": "3.6.1"
  }
 },
 "nbformat": 4,
 "nbformat_minor": 2
}
