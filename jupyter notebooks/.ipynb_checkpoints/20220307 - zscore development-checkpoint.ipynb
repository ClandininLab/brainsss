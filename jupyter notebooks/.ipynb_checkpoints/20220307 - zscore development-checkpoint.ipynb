{
 "cells": [
  {
   "cell_type": "code",
   "execution_count": 1,
   "metadata": {
    "collapsed": true
   },
   "outputs": [],
   "source": [
    "import brainsss\n",
    "import os\n",
    "import sys\n",
    "import numpy as np\n",
    "import argparse\n",
    "import subprocess\n",
    "import json\n",
    "from time import time\n",
    "import nibabel as nib\n",
    "import h5py\n",
    "import matplotlib\n",
    "import matplotlib.pyplot as plt\n",
    "%matplotlib inline"
   ]
  },
  {
   "cell_type": "code",
   "execution_count": 3,
   "metadata": {},
   "outputs": [
    {
     "data": {
      "text/plain": [
       "'3.3.4'"
      ]
     },
     "execution_count": 3,
     "metadata": {},
     "output_type": "execute_result"
    }
   ],
   "source": [
    "matplotlib.__version__"
   ]
  },
  {
   "cell_type": "code",
   "execution_count": 2,
   "metadata": {},
   "outputs": [
    {
     "data": {
      "text/plain": [
       "'1.18.1'"
      ]
     },
     "execution_count": 2,
     "metadata": {},
     "output_type": "execute_result"
    }
   ],
   "source": [
    "np.__version__"
   ]
  },
  {
   "cell_type": "code",
   "execution_count": 3,
   "metadata": {},
   "outputs": [
    {
     "data": {
      "text/plain": [
       "['brain_zscored_red.nii',\n",
       " 'glm',\n",
       " 'brain_zscored_red_high_pass_masked_warped.nii',\n",
       " 'brain_zscored_green_high_pass.nii',\n",
       " 'moco',\n",
       " 'brain_zscored_red_high_pass_masked.nii',\n",
       " 'brain_zscored_green_high_pass_masked.nii',\n",
       " 'pca',\n",
       " 'brain_zscored_green_high_pass_masked_warped.nii',\n",
       " 'mask.nii',\n",
       " 'brain_zscored_red_high_pass.nii',\n",
       " 'expt.json',\n",
       " 'corr',\n",
       " 'fictrac',\n",
       " 'imaging',\n",
       " 'brain_zscored_green.nii']"
      ]
     },
     "execution_count": 3,
     "metadata": {},
     "output_type": "execute_result"
    }
   ],
   "source": [
    "os.listdir(\"/oak/stanford/groups/trc/data/Brezovec/2P_Imaging/20190101_walking_dataset/fly_105/func_0/\")"
   ]
  },
  {
   "cell_type": "code",
   "execution_count": 2,
   "metadata": {
    "collapsed": true
   },
   "outputs": [],
   "source": [
    "# How to make new directories for new files\n",
    "directory = \"/oak/stanford/groups/trc/data/Brezovec/2P_Imaging/20190101_walking_dataset/fly_130/func_0/moco\"\n",
    "filename = \"functional_channel_1_moco.h5\"\n",
    "file = os.path.join(directory, filename)# add one more directory\n",
    "parent_dir = os.path.dirname(directory)# remove last directory\n",
    "savename = filename.split('.')[0] + '_zscore.h5'#\"functional_channel_1_moco\" \"h5\"\n",
    "savefile = os.path.join(parent_dir, savename)"
   ]
  },
  {
   "cell_type": "code",
   "execution_count": 5,
   "metadata": {},
   "outputs": [
    {
     "ename": "NameError",
     "evalue": "name 'meanbrain' is not defined",
     "output_type": "error",
     "traceback": [
      "\u001b[0;31m---------------------------------------------------------------------------\u001b[0m",
      "\u001b[0;31mNameError\u001b[0m                                 Traceback (most recent call last)",
      "\u001b[0;32m<ipython-input-5-38a439dfb8a1>\u001b[0m in \u001b[0;36m<module>\u001b[0;34m()\u001b[0m\n\u001b[0;32m----> 1\u001b[0;31m \u001b[0mmeanbrain\u001b[0m \u001b[0;34m=\u001b[0m \u001b[0mmeanbrain\u001b[0m \u001b[0;34m+\u001b[0m \u001b[0mdata\u001b[0m\u001b[0;34m[\u001b[0m\u001b[0;34m:\u001b[0m\u001b[0;34m,\u001b[0m\u001b[0;34m:\u001b[0m\u001b[0;34m,\u001b[0m\u001b[0;34m:\u001b[0m\u001b[0;34m,\u001b[0m\u001b[0mi\u001b[0m\u001b[0;34m]\u001b[0m\u001b[0;34m\u001b[0m\u001b[0m\n\u001b[0m",
      "\u001b[0;31mNameError\u001b[0m: name 'meanbrain' is not defined"
     ]
    }
   ],
   "source": [
    "meanbrain = meanbrain + data[:,:,:,i]"
   ]
  },
  {
   "cell_type": "code",
   "execution_count": 6,
   "metadata": {},
   "outputs": [
    {
     "name": "stdout",
     "output_type": "stream",
     "text": [
      "5.25\n"
     ]
    }
   ],
   "source": [
    "running_sum = 0\n",
    "for i in [6,3,5,7]:\n",
    "    running_sum += i\n",
    "mean = running_sum / 4\n",
    "print(mean)"
   ]
  },
  {
   "cell_type": "code",
   "execution_count": 7,
   "metadata": {
    "collapsed": true
   },
   "outputs": [],
   "source": [
    "dims = (256, 128, 49, 3384)"
   ]
  },
  {
   "cell_type": "code",
   "execution_count": 8,
   "metadata": {},
   "outputs": [
    {
     "name": "stdout",
     "output_type": "stream",
     "text": [
      "[0, 100, 200, 300, 400, 500, 600, 700, 800, 900, 1000, 1100, 1200, 1300, 1400, 1500, 1600, 1700, 1800, 1900, 2000, 2100, 2200, 2300, 2400, 2500, 2600, 2700, 2800, 2900, 3000, 3100, 3200, 3300, 3384]\n"
     ]
    }
   ],
   "source": [
    "stepsize = 100\n",
    "steps = list(range(0,dims[-1],stepsize))\n",
    "steps.append(dims[-1])\n",
    "print(steps)"
   ]
  },
  {
   "cell_type": "code",
   "execution_count": 11,
   "metadata": {},
   "outputs": [
    {
     "name": "stdout",
     "output_type": "stream",
     "text": [
      "[0, 72, 144, 216, 288, 360, 432, 504, 576, 648, 720, 792, 864, 936, 1008, 1080, 1152, 1224, 1296, 1368, 1440, 1512, 1584, 1656, 1728, 1800, 1872, 1944, 2016, 2088, 2160, 2232, 2304, 2376, 2448, 2520, 2592, 2664, 2736, 2808, 2880, 2952, 3024, 3096, 3168, 3240, 3312, 3384]\n"
     ]
    }
   ],
   "source": [
    "stepsize_1 = 72\n",
    "steps_1 = list(range(0,dims[-1] +1,stepsize_1))\n",
    "print(steps_1)"
   ]
  },
  {
   "cell_type": "code",
   "execution_count": 23,
   "metadata": {},
   "outputs": [
    {
     "data": {
      "text/plain": [
       "48"
      ]
     },
     "execution_count": 23,
     "metadata": {},
     "output_type": "execute_result"
    }
   ],
   "source": [
    "len(steps_1)"
   ]
  },
  {
   "cell_type": "code",
   "execution_count": 33,
   "metadata": {},
   "outputs": [
    {
     "name": "stdout",
     "output_type": "stream",
     "text": [
      "Chunkstart: 0 Chunkend: 100\n",
      "Chunkstart: 100 Chunkend: 200\n",
      "Chunkstart: 200 Chunkend: 300\n",
      "Chunkstart: 300 Chunkend: 400\n",
      "Chunkstart: 400 Chunkend: 500\n",
      "Chunkstart: 500 Chunkend: 600\n",
      "Chunkstart: 600 Chunkend: 700\n",
      "Chunkstart: 700 Chunkend: 800\n",
      "Chunkstart: 800 Chunkend: 900\n",
      "Chunkstart: 900 Chunkend: 1000\n",
      "Chunkstart: 1000 Chunkend: 1100\n",
      "Chunkstart: 1100 Chunkend: 1200\n",
      "Chunkstart: 1200 Chunkend: 1300\n",
      "Chunkstart: 1300 Chunkend: 1400\n",
      "Chunkstart: 1400 Chunkend: 1500\n",
      "Chunkstart: 1500 Chunkend: 1600\n",
      "Chunkstart: 1600 Chunkend: 1700\n",
      "Chunkstart: 1700 Chunkend: 1800\n",
      "Chunkstart: 1800 Chunkend: 1900\n",
      "Chunkstart: 1900 Chunkend: 2000\n",
      "Chunkstart: 2000 Chunkend: 2100\n",
      "Chunkstart: 2100 Chunkend: 2200\n",
      "Chunkstart: 2200 Chunkend: 2300\n",
      "Chunkstart: 2300 Chunkend: 2400\n",
      "Chunkstart: 2400 Chunkend: 2500\n",
      "Chunkstart: 2500 Chunkend: 2600\n",
      "Chunkstart: 2600 Chunkend: 2700\n",
      "Chunkstart: 2700 Chunkend: 2800\n",
      "Chunkstart: 2800 Chunkend: 2900\n",
      "Chunkstart: 2900 Chunkend: 3000\n",
      "Chunkstart: 3000 Chunkend: 3100\n",
      "Chunkstart: 3100 Chunkend: 3200\n",
      "Chunkstart: 3200 Chunkend: 3300\n",
      "Chunkstart: 3300 Chunkend: 3384\n"
     ]
    }
   ],
   "source": [
    "for chunk_num in range(len(steps)):\n",
    "    if chunk_num + 1 <= len(steps)-1:\n",
    "        chunkstart = steps[chunk_num]\n",
    "        chunkend = steps[chunk_num + 1]\n",
    "        print(F\"Chunkstart: {chunkstart} Chunkend: {chunkend}\")\n",
    "        #data[:,:,:,chunkstart:chunkend]"
   ]
  },
  {
   "cell_type": "code",
   "execution_count": 34,
   "metadata": {},
   "outputs": [
    {
     "name": "stdout",
     "output_type": "stream",
     "text": [
      "vol: 0 time: 11.298824310302734\n",
      "vol: 1 time: 0.3482975959777832\n",
      "vol: 2 time: 0.27696752548217773\n",
      "vol: 3 time: 0.2741866111755371\n",
      "vol: 4 time: 0.2743508815765381\n",
      "vol: 5 time: 0.27605557441711426\n",
      "vol: 6 time: 0.2802586555480957\n",
      "vol: 7 time: 0.27535104751586914\n",
      "vol: 8 time: 0.27327466011047363\n",
      "vol: 9 time: 0.2764730453491211\n",
      "0.35131144523620605\n",
      "0.31884098052978516\n",
      "0.3162412643432617\n",
      "0.31354665756225586\n",
      "0.31212830543518066\n",
      "0.31043028831481934\n",
      "0.3143644332885742\n",
      "0.31185293197631836\n",
      "0.3109548091888428\n",
      "0.31116223335266113\n"
     ]
    }
   ],
   "source": [
    "#OG script--single volumes loaded\n",
    "with h5py.File(file, 'r') as hf:\n",
    "    data = hf['data'] # this doesn't actually LOAD the data - it is just a proxy\n",
    "    #dims = np.shape(data)\n",
    "    dims = (256,128,49,10)\n",
    "    running_sum = np.zeros(dims[:3])\n",
    "    \n",
    "    for i in range(dims[-1]):\n",
    "        t0 = time()\n",
    "        running_sum += data[:,:,:,i]\n",
    "        #if i % 10 == 0:\n",
    "        print(F\"vol: {i} time: {time()-t0}\")\n",
    "    meanbrain = running_sum / dims[-1]\n",
    "    \n",
    "    total = 0\n",
    "    for i in range(dims[-1]):\n",
    "        s = (data[:,:,:,i]-meanbrain)**2\n",
    "        total = s + total \n",
    "    final_std = np.sqrt(total/dims[-1]) \n",
    "\n",
    "    with h5py.File(savefile, 'w') as f:\n",
    "        dset = f.create_dataset('data', dims, dtype='float32', chunks=True) \n",
    "\n",
    "        for i in range(dims[-1]):\n",
    "            t0 = time()\n",
    "            e = (data[:,:,:,i] - meanbrain)/final_std\n",
    "            f['data'][:,:,:,i] = e\n",
    "            print(time()-t0)"
   ]
  },
  {
   "cell_type": "code",
   "execution_count": 3,
   "metadata": {
    "collapsed": true
   },
   "outputs": [],
   "source": [
    "with h5py.File(file, 'r') as hf:\n",
    "    data = hf['data'][:]"
   ]
  },
  {
   "cell_type": "code",
   "execution_count": 4,
   "metadata": {},
   "outputs": [
    {
     "data": {
      "text/plain": [
       "(256, 128, 49, 3384)"
      ]
     },
     "execution_count": 4,
     "metadata": {},
     "output_type": "execute_result"
    }
   ],
   "source": [
    "data.shape"
   ]
  },
  {
   "cell_type": "code",
   "execution_count": null,
   "metadata": {},
   "outputs": [],
   "source": [
    "meandata = np.mean(data,axis=-1)\n",
    "stddata = np.std(data,axis=-1)"
   ]
  },
  {
   "cell_type": "code",
   "execution_count": null,
   "metadata": {
    "collapsed": true
   },
   "outputs": [],
   "source": [
    "zscoredata = (data - meandata[...,None])/stddata[...,None]"
   ]
  },
  {
   "cell_type": "code",
   "execution_count": null,
   "metadata": {
    "collapsed": true
   },
   "outputs": [],
   "source": [
    "zscoredata.shape"
   ]
  },
  {
   "cell_type": "code",
   "execution_count": null,
   "metadata": {
    "collapsed": true
   },
   "outputs": [],
   "source": [
    "data = None"
   ]
  },
  {
   "cell_type": "code",
   "execution_count": null,
   "metadata": {
    "collapsed": true
   },
   "outputs": [],
   "source": [
    "with h5py.File(savefile, 'r') as hf:\n",
    "    data = hf['data'][:]"
   ]
  },
  {
   "cell_type": "code",
   "execution_count": null,
   "metadata": {
    "collapsed": true
   },
   "outputs": [],
   "source": [
    "1"
   ]
  },
  {
   "cell_type": "code",
   "execution_count": null,
   "metadata": {
    "collapsed": true
   },
   "outputs": [],
   "source": [
    "savefile"
   ]
  },
  {
   "cell_type": "code",
   "execution_count": 10,
   "metadata": {},
   "outputs": [
    {
     "name": "stdout",
     "output_type": "stream",
     "text": [
      "vol: 0 to 100 time: 0.6456356048583984\n",
      "vol: 100 to 200 time: 0.632390022277832\n",
      "vol: 200 to 300 time: 0.945817232131958\n",
      "vol: 300 to 400 time: 0.6293313503265381\n",
      "vol: 400 to 500 time: 0.9477853775024414\n",
      "vol: 500 to 600 time: 0.6309719085693359\n",
      "vol: 600 to 700 time: 0.9396359920501709\n",
      "vol: 700 to 800 time: 0.6223239898681641\n",
      "vol: 800 to 900 time: 0.9499504566192627\n",
      "vol: 900 to 1000 time: 0.6324207782745361\n",
      "vol: 1000 to 1100 time: 0.9894847869873047\n",
      "vol: 1100 to 1200 time: 0.6312844753265381\n",
      "vol: 1200 to 1300 time: 0.9256935119628906\n",
      "vol: 1300 to 1400 time: 0.6143479347229004\n",
      "vol: 1400 to 1500 time: 0.9336519241333008\n",
      "vol: 1500 to 1600 time: 0.6315586566925049\n",
      "vol: 1600 to 1700 time: 0.9114470481872559\n",
      "vol: 1700 to 1800 time: 0.618405818939209\n",
      "vol: 1800 to 1900 time: 0.6156585216522217\n",
      "vol: 1900 to 2000 time: 0.9239640235900879\n",
      "vol: 2000 to 2100 time: 0.6151134967803955\n",
      "vol: 2100 to 2200 time: 0.9297008514404297\n",
      "vol: 2200 to 2300 time: 0.6277916431427002\n",
      "vol: 2300 to 2400 time: 0.9549789428710938\n",
      "vol: 2400 to 2500 time: 0.6307530403137207\n",
      "vol: 2500 to 2600 time: 0.9552786350250244\n",
      "vol: 2600 to 2700 time: 0.6367700099945068\n",
      "vol: 2700 to 2800 time: 0.9453682899475098\n",
      "vol: 2800 to 2900 time: 0.6293625831604004\n",
      "vol: 2900 to 2999 time: 0.9427015781402588\n"
     ]
    }
   ],
   "source": [
    "#Chunked brains\n",
    "with h5py.File(file, 'r') as hf:\n",
    "    data = hf['data'] # this doesn't actually LOAD the data - it is just a proxy\n",
    "    #dims = np.shape(data)\n",
    "    dims = (256,128,49,2999)\n",
    "    running_sum = np.zeros(dims[:3])\n",
    "    running_sumofsq = np.zeros(dims[:3])\n",
    "    \n",
    "    stepsize = 100\n",
    "    steps = list(range(0,dims[-1],stepsize))\n",
    "    steps.append(dims[-1])\n",
    "    for chunk_num in range(len(steps)):\n",
    "        t0 = time()\n",
    "        if chunk_num + 1 <= len(steps)-1:\n",
    "            chunkstart = steps[chunk_num]\n",
    "            chunkend = steps[chunk_num + 1]\n",
    "            chunk = data[:,:,:,chunkstart:chunkend]\n",
    "            running_sum += np.sum(chunk, axis=3)\n",
    "            print(F\"vol: {chunkstart} to {chunkend} time: {time()-t0}\")\n",
    "    meanbrain = running_sum / dims[-1]"
   ]
  },
  {
   "cell_type": "code",
   "execution_count": 7,
   "metadata": {},
   "outputs": [
    {
     "data": {
      "text/plain": [
       "((256, 128, 49), (256, 128, 49))"
      ]
     },
     "execution_count": 7,
     "metadata": {},
     "output_type": "execute_result"
    }
   ],
   "source": [
    "meandata.shape, meanbrain.shape"
   ]
  },
  {
   "cell_type": "code",
   "execution_count": 8,
   "metadata": {},
   "outputs": [
    {
     "data": {
      "text/plain": [
       "(41.41925, 41.4192529231944)"
      ]
     },
     "execution_count": 8,
     "metadata": {},
     "output_type": "execute_result"
    }
   ],
   "source": [
    "meandata[0,0,0], meanbrain[0,0,0]"
   ]
  },
  {
   "cell_type": "code",
   "execution_count": 11,
   "metadata": {},
   "outputs": [
    {
     "name": "stdout",
     "output_type": "stream",
     "text": [
      "vol: 0 to 100 time: 0.6203935146331787\n",
      "vol: 100 to 200 time: 0.6224520206451416\n",
      "vol: 200 to 300 time: 0.9467923641204834\n",
      "vol: 300 to 400 time: 0.6368544101715088\n",
      "vol: 400 to 500 time: 0.9591999053955078\n",
      "vol: 500 to 600 time: 0.6324102878570557\n",
      "vol: 600 to 700 time: 0.94742751121521\n",
      "vol: 700 to 800 time: 0.6197738647460938\n",
      "vol: 800 to 900 time: 0.931804895401001\n",
      "vol: 900 to 1000 time: 0.6148617267608643\n",
      "vol: 1000 to 1100 time: 0.9230303764343262\n",
      "vol: 1100 to 1200 time: 0.6163287162780762\n",
      "vol: 1200 to 1300 time: 0.9403901100158691\n",
      "vol: 1300 to 1400 time: 0.6317293643951416\n",
      "vol: 1400 to 1500 time: 0.9380331039428711\n",
      "vol: 1500 to 1600 time: 0.6329519748687744\n",
      "vol: 1600 to 1700 time: 0.9149825572967529\n",
      "vol: 1700 to 1800 time: 0.6386477947235107\n",
      "vol: 1800 to 1900 time: 0.6330502033233643\n",
      "vol: 1900 to 2000 time: 0.9471454620361328\n",
      "vol: 2000 to 2100 time: 0.6247134208679199\n",
      "vol: 2100 to 2200 time: 0.9405927658081055\n",
      "vol: 2200 to 2300 time: 0.6196033954620361\n",
      "vol: 2300 to 2400 time: 0.9291465282440186\n",
      "vol: 2400 to 2500 time: 0.6231460571289062\n",
      "vol: 2500 to 2600 time: 0.9529085159301758\n",
      "vol: 2600 to 2700 time: 0.6311297416687012\n",
      "vol: 2700 to 2800 time: 0.9499952793121338\n",
      "vol: 2800 to 2900 time: 0.6306407451629639\n",
      "vol: 2900 to 3000 time: 0.9408719539642334\n",
      "vol: 3000 to 3100 time: 0.632495641708374\n",
      "vol: 3100 to 3200 time: 0.9388115406036377\n",
      "vol: 3200 to 3300 time: 0.6325078010559082\n",
      "vol: 3300 to 3384 time: 0.5845339298248291\n",
      "vol: 0 to 100 time: 1.260430097579956\n",
      "vol: 100 to 200 time: 1.3004717826843262\n",
      "vol: 200 to 300 time: 1.565453290939331\n",
      "vol: 300 to 400 time: 1.2522802352905273\n",
      "vol: 400 to 500 time: 1.610790729522705\n",
      "vol: 500 to 600 time: 1.278245449066162\n",
      "vol: 600 to 700 time: 1.5946147441864014\n",
      "vol: 700 to 800 time: 1.2795524597167969\n",
      "vol: 800 to 900 time: 1.6071972846984863\n",
      "vol: 900 to 1000 time: 1.2983427047729492\n",
      "vol: 1000 to 1100 time: 1.6286592483520508\n",
      "vol: 1100 to 1200 time: 1.2860407829284668\n",
      "vol: 1200 to 1300 time: 1.6079308986663818\n",
      "vol: 1300 to 1400 time: 1.288834571838379\n",
      "vol: 1400 to 1500 time: 1.590024471282959\n",
      "vol: 1500 to 1600 time: 1.2843759059906006\n",
      "vol: 1600 to 1700 time: 1.5627434253692627\n",
      "vol: 1700 to 1800 time: 1.2948079109191895\n",
      "vol: 1800 to 1900 time: 1.2818634510040283\n",
      "vol: 1900 to 2000 time: 1.5949723720550537\n",
      "vol: 2000 to 2100 time: 1.279665231704712\n",
      "vol: 2100 to 2200 time: 1.6042442321777344\n",
      "vol: 2200 to 2300 time: 1.2795209884643555\n",
      "vol: 2300 to 2400 time: 1.6059741973876953\n",
      "vol: 2400 to 2500 time: 1.2515628337860107\n",
      "vol: 2500 to 2600 time: 1.5737659931182861\n",
      "vol: 2600 to 2700 time: 1.256791353225708\n",
      "vol: 2700 to 2800 time: 1.5720250606536865\n",
      "vol: 2800 to 2900 time: 1.2477219104766846\n",
      "vol: 2900 to 3000 time: 1.5938551425933838\n",
      "vol: 3000 to 3100 time: 1.2847793102264404\n",
      "vol: 3100 to 3200 time: 1.594973087310791\n",
      "vol: 3200 to 3300 time: 1.2847216129302979\n",
      "vol: 3300 to 3384 time: 1.1405425071716309\n",
      "vol: 0 to 100 time: 4.07168436050415\n",
      "vol: 100 to 200 time: 3.837907314300537\n",
      "vol: 200 to 300 time: 5.441097736358643\n",
      "vol: 300 to 400 time: 3.9194889068603516\n",
      "vol: 400 to 500 time: 5.418309211730957\n",
      "vol: 500 to 600 time: 3.869255542755127\n",
      "vol: 600 to 700 time: 5.423049211502075\n",
      "vol: 700 to 800 time: 3.90370774269104\n",
      "vol: 800 to 900 time: 5.35554575920105\n",
      "vol: 900 to 1000 time: 3.8635120391845703\n",
      "vol: 1000 to 1100 time: 5.4025609493255615\n",
      "vol: 1100 to 1200 time: 3.8935816287994385\n",
      "vol: 1200 to 1300 time: 6.037343263626099\n",
      "vol: 1300 to 1400 time: 3.8994593620300293\n",
      "vol: 1400 to 1500 time: 5.797527551651001\n",
      "vol: 1500 to 1600 time: 3.97476863861084\n",
      "vol: 1600 to 1700 time: 6.954819679260254\n",
      "vol: 1700 to 1800 time: 3.892451524734497\n",
      "vol: 1800 to 1900 time: 3.813270092010498\n",
      "vol: 1900 to 2000 time: 6.617520809173584\n",
      "vol: 2000 to 2100 time: 3.9396181106567383\n",
      "vol: 2100 to 2200 time: 5.59111475944519\n",
      "vol: 2200 to 2300 time: 3.911115884780884\n",
      "vol: 2300 to 2400 time: 5.452178001403809\n",
      "vol: 2400 to 2500 time: 3.8857598304748535\n",
      "vol: 2500 to 2600 time: 8.629013299942017\n",
      "vol: 2600 to 2700 time: 3.8768680095672607\n",
      "vol: 2700 to 2800 time: 6.4708921909332275\n",
      "vol: 2800 to 2900 time: 6.977410554885864\n",
      "vol: 2900 to 3000 time: 5.4961981773376465\n",
      "vol: 3000 to 3100 time: 4.188964128494263\n",
      "vol: 3100 to 3200 time: 6.172306776046753\n",
      "vol: 3200 to 3300 time: 5.296178579330444\n",
      "vol: 3300 to 3384 time: 10.024497032165527\n"
     ]
    }
   ],
   "source": [
    "#Chunked brains\n",
    "with h5py.File(file, 'r') as hf:\n",
    "    data = hf['data'] # this doesn't actually LOAD the data - it is just a proxy\n",
    "    dims = np.shape(data)\n",
    "    running_sum = np.zeros(dims[:3])\n",
    "    running_sumofsq = np.zeros(dims[:3])\n",
    "    \n",
    "    stepsize = 100\n",
    "    steps = list(range(0,dims[-1],stepsize))\n",
    "    steps.append(dims[-1])\n",
    "    for chunk_num in range(len(steps)):\n",
    "        t0 = time()\n",
    "        if chunk_num + 1 <= len(steps)-1:\n",
    "            chunkstart = steps[chunk_num]\n",
    "            chunkend = steps[chunk_num + 1]\n",
    "            chunk = data[:,:,:,chunkstart:chunkend]\n",
    "            running_sum += np.sum(chunk, axis=3)\n",
    "            print(F\"vol: {chunkstart} to {chunkend} time: {time()-t0}\")\n",
    "    meanbrain = running_sum / dims[-1]\n",
    "\n",
    "    for chunk_num in range(len(steps)):\n",
    "        t0 = time()\n",
    "        if chunk_num + 1 <= len(steps)-1:\n",
    "            chunkstart = steps[chunk_num]\n",
    "            chunkend = steps[chunk_num + 1]\n",
    "            chunk = data[:,:,:,chunkstart:chunkend]\n",
    "            running_sumofsq += np.sum((chunk-meanbrain[...,None])**2, axis=3)\n",
    "            print(F\"vol: {chunkstart} to {chunkend} time: {time()-t0}\")\n",
    "    final_std = np.sqrt(running_sumofsq/dims[-1])\n",
    "\n",
    "    with h5py.File(savefile, 'w') as f:\n",
    "        dset = f.create_dataset('data', dims, dtype='float32', chunks=True) \n",
    "        \n",
    "        for chunk_num in range(len(steps)):\n",
    "            t0 = time()\n",
    "            if chunk_num + 1 <= len(steps)-1:\n",
    "                chunkstart = steps[chunk_num]\n",
    "                chunkend = steps[chunk_num + 1]\n",
    "                chunk = data[:,:,:,chunkstart:chunkend]\n",
    "                running_sumofsq += np.sum((chunk-meanbrain[...,None])**2, axis=3)\n",
    "                zscored = (chunk - meanbrain[...,None]) / final_std[:,:,:,None]\n",
    "                f['data'][:,:,:,chunkstart:chunkend] = zscored\n",
    "                print(F\"vol: {chunkstart} to {chunkend} time: {time()-t0}\")\n",
    "\n",
    "#             for i in range(dims[-1]):\n",
    "#                 t0 = time()\n",
    "#                 e = (data[:,:,:,i] - meanbrain)/final_std\n",
    "#                 f['data'][:,:,:,i] = e\n",
    "#                 print(time()-t0)"
   ]
  },
  {
   "cell_type": "code",
   "execution_count": null,
   "metadata": {
    "collapsed": true
   },
   "outputs": [],
   "source": []
  }
 ],
 "metadata": {
  "kernelspec": {
   "display_name": "Python 3",
   "language": "python",
   "name": "python3"
  },
  "language_info": {
   "codemirror_mode": {
    "name": "ipython",
    "version": 3
   },
   "file_extension": ".py",
   "mimetype": "text/x-python",
   "name": "python",
   "nbconvert_exporter": "python",
   "pygments_lexer": "ipython3",
   "version": "3.6.1"
  }
 },
 "nbformat": 4,
 "nbformat_minor": 2
}
