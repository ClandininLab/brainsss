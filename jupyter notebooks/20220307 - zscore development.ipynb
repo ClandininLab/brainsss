{
 "cells": [
  {
   "cell_type": "code",
   "execution_count": 1,
   "metadata": {
    "collapsed": true
   },
   "outputs": [],
   "source": [
    "import brainsss\n",
    "import os\n",
    "import sys\n",
    "import numpy as np\n",
    "import argparse\n",
    "import subprocess\n",
    "import json\n",
    "from time import time\n",
    "import nibabel as nib\n",
    "import h5py"
   ]
  },
  {
   "cell_type": "code",
   "execution_count": null,
   "metadata": {},
   "outputs": [],
   "source": [
    "os.listdir(\"/oak/stanford/groups/trc/data/Brezovec/2P_Imaging/20190101_walking_dataset/fly_105/func_0/\")"
   ]
  },
  {
   "cell_type": "code",
   "execution_count": 2,
   "metadata": {},
   "outputs": [],
   "source": [
    "# How to make new directories for new files\n",
    "directory = \"/oak/stanford/groups/trc/data/Brezovec/2P_Imaging/20190101_walking_dataset/fly_130/func_0/moco\"\n",
    "filename = \"functional_channel_1_moco.h5\"\n",
    "file = os.path.join(directory, filename)# add one more directory\n",
    "parent_dir = os.path.dirname(directory)# remove last directory\n",
    "savename = filename.split('.')[0] + '_zscore.h5'#\"functional_channel_1_moco\" \"h5\"\n",
    "savefile = os.path.join(parent_dir, savename)"
   ]
  },
  {
   "cell_type": "code",
   "execution_count": null,
   "metadata": {
    "collapsed": true
   },
   "outputs": [],
   "source": [
    "meanbrain = meanbrain + data[:,:,:,i]"
   ]
  },
  {
   "cell_type": "code",
   "execution_count": 45,
   "metadata": {},
   "outputs": [
    {
     "name": "stdout",
     "output_type": "stream",
     "text": [
      "5.25\n"
     ]
    }
   ],
   "source": [
    "running_sum = 0\n",
    "for i in [6,3,5,7]:\n",
    "    running_sum += i\n",
    "mean = running_sum / 4\n",
    "print(mean)"
   ]
  },
  {
   "cell_type": "code",
   "execution_count": 43,
   "metadata": {},
   "outputs": [
    {
     "name": "stdout",
     "output_type": "stream",
     "text": [
      "vol: 0 time: 0.27959203720092773\n",
      "vol: 1 time: 0.23992180824279785\n",
      "vol: 2 time: 0.24157166481018066\n",
      "vol: 3 time: 0.24464821815490723\n",
      "vol: 4 time: 0.2439279556274414\n",
      "vol: 5 time: 0.2442607879638672\n",
      "vol: 6 time: 0.24393248558044434\n",
      "vol: 7 time: 0.24013924598693848\n",
      "vol: 8 time: 0.24082350730895996\n",
      "vol: 9 time: 0.23944759368896484\n"
     ]
    }
   ],
   "source": [
    "with h5py.File(file, 'r') as hf:\n",
    "    data = hf['data'] # this doesn't actually LOAD the data - it is just a proxy\n",
    "    #dims = np.shape(data)\n",
    "    dims = (256,128,49,10)\n",
    "    running_sum = np.zeros(dims[:3])\n",
    "    \n",
    "    for i in range(dims[-1]):\n",
    "        t0 = time()\n",
    "        running_sum += data[:,:,:,i]\n",
    "        #if i % 10 == 0:\n",
    "        print(F\"vol: {i} time: {time()-t0}\")\n",
    "    meanbrain = running_sum / dims[-1]\n",
    "    \n",
    "    total = 0\n",
    "    for i in range(dims[-1]):\n",
    "        s = (data[:,:,:,i]-meanbrain)**2\n",
    "        total = s + total \n",
    "    final_std = np.sqrt(total/dims[-1]) \n",
    "\n",
    "    with h5py.File(savefile, 'w') as f:\n",
    "        dset = f.create_dataset('data', dims, dtype='float32', chunks=True) \n",
    "\n",
    "        for i in range(dims[-1]):\n",
    "            e = (data[:,:,:,i] - meanbrain)/final_std\n",
    "            f['data'][:,:,:,i] = e"
   ]
  },
  {
   "cell_type": "code",
   "execution_count": 41,
   "metadata": {},
   "outputs": [
    {
     "name": "stdout",
     "output_type": "stream",
     "text": [
      "(256, 128, 49, 10)\n"
     ]
    }
   ],
   "source": [
    "with h5py.File(savefile, 'r') as f:\n",
    "    data = f['data'] \n",
    "    print(data.shape)"
   ]
  },
  {
   "cell_type": "code",
   "execution_count": 26,
   "metadata": {},
   "outputs": [
    {
     "data": {
      "text/plain": [
       "int"
      ]
     },
     "execution_count": 26,
     "metadata": {},
     "output_type": "execute_result"
    }
   ],
   "source": [
    "a = [1,2,3,4,5]\n",
    "type(a[1])"
   ]
  },
  {
   "cell_type": "code",
   "execution_count": 46,
   "metadata": {},
   "outputs": [
    {
     "name": "stdout",
     "output_type": "stream",
     "text": [
      "[0. 0. 0. 0. 0.]\n"
     ]
    }
   ],
   "source": [
    "a = [1,2,3,4,5]\n",
    "b = np.zeros(len(a))\n",
    "print(b)"
   ]
  },
  {
   "cell_type": "code",
   "execution_count": 50,
   "metadata": {},
   "outputs": [
    {
     "data": {
      "text/plain": [
       "array([1., 1., 1., 1.])"
      ]
     },
     "execution_count": 50,
     "metadata": {},
     "output_type": "execute_result"
    }
   ],
   "source": [
    "np.zeros((4)) + 1"
   ]
  },
  {
   "cell_type": "code",
   "execution_count": 48,
   "metadata": {},
   "outputs": [
    {
     "name": "stdout",
     "output_type": "stream",
     "text": [
      "[6. 6. 6. 6.]\n"
     ]
    }
   ],
   "source": [
    "b = np.zeros((4))\n",
    "for i in range(4):\n",
    "    b += i\n",
    "print(b)\n",
    "\n",
    "\n",
    "# for i in range(4):\n",
    "#     b[i] += a[i]\n",
    "# print(b)"
   ]
  },
  {
   "cell_type": "code",
   "execution_count": null,
   "metadata": {
    "collapsed": true
   },
   "outputs": [],
   "source": []
  },
  {
   "cell_type": "code",
   "execution_count": 37,
   "metadata": {},
   "outputs": [
    {
     "name": "stdout",
     "output_type": "stream",
     "text": [
      "[0. 1. 2. 3. 0.]\n",
      "[ 1.  4.  7. 10.  0.]\n"
     ]
    }
   ],
   "source": [
    "b = np.zeros(len(a))\n",
    "\n",
    "\n",
    "for i in range(4):\n",
    "    b[i] += i\n",
    "print(b)\n",
    "\n",
    "\n",
    "for i in range(4):\n",
    "    b[i] += a[i]\n",
    "print(b)"
   ]
  },
  {
   "cell_type": "code",
   "execution_count": 47,
   "metadata": {},
   "outputs": [
    {
     "name": "stdout",
     "output_type": "stream",
     "text": [
      "0\n",
      "1\n",
      "2\n",
      "3\n"
     ]
    }
   ],
   "source": [
    "for i in range(4):\n",
    "    print(i)"
   ]
  },
  {
   "cell_type": "code",
   "execution_count": null,
   "metadata": {
    "collapsed": true
   },
   "outputs": [],
   "source": []
  }
 ],
 "metadata": {
  "kernelspec": {
   "display_name": "Python 3",
   "language": "python",
   "name": "python3"
  },
  "language_info": {
   "codemirror_mode": {
    "name": "ipython",
    "version": 3
   },
   "file_extension": ".py",
   "mimetype": "text/x-python",
   "name": "python",
   "nbconvert_exporter": "python",
   "pygments_lexer": "ipython3",
   "version": "3.6.1"
  }
 },
 "nbformat": 4,
 "nbformat_minor": 2
}
